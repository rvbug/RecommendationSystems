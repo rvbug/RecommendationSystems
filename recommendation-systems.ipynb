{
 "cells": [
  {
   "cell_type": "markdown",
   "id": "7cc50667",
   "metadata": {
    "papermill": {
     "duration": 0.005424,
     "end_time": "2022-09-01T12:01:45.358585",
     "exception": false,
     "start_time": "2022-09-01T12:01:45.353161",
     "status": "completed"
    },
    "tags": []
   },
   "source": [
    "# Import files"
   ]
  },
  {
   "cell_type": "code",
   "execution_count": 1,
   "id": "222cb086",
   "metadata": {
    "execution": {
     "iopub.execute_input": "2022-09-01T12:01:45.371030Z",
     "iopub.status.busy": "2022-09-01T12:01:45.370372Z",
     "iopub.status.idle": "2022-09-01T12:01:45.395443Z",
     "shell.execute_reply": "2022-09-01T12:01:45.394524Z"
    },
    "papermill": {
     "duration": 0.035304,
     "end_time": "2022-09-01T12:01:45.398625",
     "exception": false,
     "start_time": "2022-09-01T12:01:45.363321",
     "status": "completed"
    },
    "tags": []
   },
   "outputs": [
    {
     "name": "stdout",
     "output_type": "stream",
     "text": [
      "/kaggle/input/tmdb-movie-metadata/tmdb_5000_movies.csv\n",
      "/kaggle/input/tmdb-movie-metadata/tmdb_5000_credits.csv\n"
     ]
    }
   ],
   "source": [
    "# This Python 3 environment comes with many helpful analytics libraries installed\n",
    "# It is defined by the kaggle/python Docker image: https://github.com/kaggle/docker-python\n",
    "# For example, here's several helpful packages to load\n",
    "\n",
    "import numpy as np # linear algebra\n",
    "import pandas as pd # data processing, CSV file I/O (e.g. pd.read_csv)\n",
    "\n",
    "# Input data files are available in the read-only \"../input/\" directory\n",
    "# For example, running this (by clicking run or pressing Shift+Enter) will list all files under the input directory\n",
    "\n",
    "import os\n",
    "for dirname, _, filenames in os.walk('/kaggle/input'):\n",
    "    for filename in filenames:\n",
    "        print(os.path.join(dirname, filename))\n",
    "\n",
    "# You can write up to 20GB to the current directory (/kaggle/working/) that gets preserved as output when you create a version using \"Save & Run All\" \n",
    "# You can also write temporary files to /kaggle/temp/, but they won't be saved outside of the current session"
   ]
  },
  {
   "cell_type": "markdown",
   "id": "c5096610",
   "metadata": {
    "papermill": {
     "duration": 0.005191,
     "end_time": "2022-09-01T12:01:45.411864",
     "exception": false,
     "start_time": "2022-09-01T12:01:45.406673",
     "status": "completed"
    },
    "tags": []
   },
   "source": [
    "# Read Dataset"
   ]
  },
  {
   "cell_type": "code",
   "execution_count": 2,
   "id": "c9b79fa5",
   "metadata": {
    "execution": {
     "iopub.execute_input": "2022-09-01T12:01:45.424080Z",
     "iopub.status.busy": "2022-09-01T12:01:45.423624Z",
     "iopub.status.idle": "2022-09-01T12:01:46.433682Z",
     "shell.execute_reply": "2022-09-01T12:01:46.432434Z"
    },
    "papermill": {
     "duration": 1.019736,
     "end_time": "2022-09-01T12:01:46.436419",
     "exception": false,
     "start_time": "2022-09-01T12:01:45.416683",
     "status": "completed"
    },
    "tags": []
   },
   "outputs": [],
   "source": [
    "credits = pd.read_csv(\"../input/tmdb-movie-metadata/tmdb_5000_credits.csv\")\n",
    "movies = pd.read_csv(\"../input/tmdb-movie-metadata/tmdb_5000_movies.csv\")"
   ]
  },
  {
   "cell_type": "markdown",
   "id": "25d75de6",
   "metadata": {
    "papermill": {
     "duration": 0.004224,
     "end_time": "2022-09-01T12:01:46.445307",
     "exception": false,
     "start_time": "2022-09-01T12:01:46.441083",
     "status": "completed"
    },
    "tags": []
   },
   "source": [
    "# Exploration"
   ]
  },
  {
   "cell_type": "code",
   "execution_count": 3,
   "id": "54f0da7d",
   "metadata": {
    "execution": {
     "iopub.execute_input": "2022-09-01T12:01:46.455995Z",
     "iopub.status.busy": "2022-09-01T12:01:46.455557Z",
     "iopub.status.idle": "2022-09-01T12:01:46.466767Z",
     "shell.execute_reply": "2022-09-01T12:01:46.465565Z"
    },
    "papermill": {
     "duration": 0.020098,
     "end_time": "2022-09-01T12:01:46.469890",
     "exception": false,
     "start_time": "2022-09-01T12:01:46.449792",
     "status": "completed"
    },
    "tags": []
   },
   "outputs": [
    {
     "data": {
      "text/plain": [
       "Index(['movie_id', 'title', 'cast', 'crew'], dtype='object')"
      ]
     },
     "execution_count": 3,
     "metadata": {},
     "output_type": "execute_result"
    }
   ],
   "source": [
    "credits.columns"
   ]
  },
  {
   "cell_type": "code",
   "execution_count": 4,
   "id": "002030d0",
   "metadata": {
    "execution": {
     "iopub.execute_input": "2022-09-01T12:01:46.480966Z",
     "iopub.status.busy": "2022-09-01T12:01:46.480528Z",
     "iopub.status.idle": "2022-09-01T12:01:46.489655Z",
     "shell.execute_reply": "2022-09-01T12:01:46.487771Z"
    },
    "papermill": {
     "duration": 0.017738,
     "end_time": "2022-09-01T12:01:46.492248",
     "exception": false,
     "start_time": "2022-09-01T12:01:46.474510",
     "status": "completed"
    },
    "tags": []
   },
   "outputs": [
    {
     "data": {
      "text/plain": [
       "Index(['budget', 'genres', 'homepage', 'id', 'keywords', 'original_language',\n",
       "       'original_title', 'overview', 'popularity', 'production_companies',\n",
       "       'production_countries', 'release_date', 'revenue', 'runtime',\n",
       "       'spoken_languages', 'status', 'tagline', 'title', 'vote_average',\n",
       "       'vote_count'],\n",
       "      dtype='object')"
      ]
     },
     "execution_count": 4,
     "metadata": {},
     "output_type": "execute_result"
    }
   ],
   "source": [
    "movies.columns"
   ]
  },
  {
   "cell_type": "code",
   "execution_count": 5,
   "id": "13cd7bcf",
   "metadata": {
    "execution": {
     "iopub.execute_input": "2022-09-01T12:01:46.504025Z",
     "iopub.status.busy": "2022-09-01T12:01:46.503609Z",
     "iopub.status.idle": "2022-09-01T12:01:46.510698Z",
     "shell.execute_reply": "2022-09-01T12:01:46.509295Z"
    },
    "papermill": {
     "duration": 0.015722,
     "end_time": "2022-09-01T12:01:46.513211",
     "exception": false,
     "start_time": "2022-09-01T12:01:46.497489",
     "status": "completed"
    },
    "tags": []
   },
   "outputs": [
    {
     "data": {
      "text/plain": [
       "((4803, 4), (4803, 20))"
      ]
     },
     "execution_count": 5,
     "metadata": {},
     "output_type": "execute_result"
    }
   ],
   "source": [
    "credits.shape, movies.shape"
   ]
  },
  {
   "cell_type": "code",
   "execution_count": 6,
   "id": "2c6f0b79",
   "metadata": {
    "execution": {
     "iopub.execute_input": "2022-09-01T12:01:46.525720Z",
     "iopub.status.busy": "2022-09-01T12:01:46.525297Z",
     "iopub.status.idle": "2022-09-01T12:01:46.543930Z",
     "shell.execute_reply": "2022-09-01T12:01:46.542639Z"
    },
    "papermill": {
     "duration": 0.028002,
     "end_time": "2022-09-01T12:01:46.546645",
     "exception": false,
     "start_time": "2022-09-01T12:01:46.518643",
     "status": "completed"
    },
    "tags": []
   },
   "outputs": [
    {
     "data": {
      "text/html": [
       "<div>\n",
       "<style scoped>\n",
       "    .dataframe tbody tr th:only-of-type {\n",
       "        vertical-align: middle;\n",
       "    }\n",
       "\n",
       "    .dataframe tbody tr th {\n",
       "        vertical-align: top;\n",
       "    }\n",
       "\n",
       "    .dataframe thead th {\n",
       "        text-align: right;\n",
       "    }\n",
       "</style>\n",
       "<table border=\"1\" class=\"dataframe\">\n",
       "  <thead>\n",
       "    <tr style=\"text-align: right;\">\n",
       "      <th></th>\n",
       "      <th>movie_id</th>\n",
       "      <th>title</th>\n",
       "      <th>cast</th>\n",
       "      <th>crew</th>\n",
       "    </tr>\n",
       "  </thead>\n",
       "  <tbody>\n",
       "    <tr>\n",
       "      <th>0</th>\n",
       "      <td>19995</td>\n",
       "      <td>Avatar</td>\n",
       "      <td>[{\"cast_id\": 242, \"character\": \"Jake Sully\", \"...</td>\n",
       "      <td>[{\"credit_id\": \"52fe48009251416c750aca23\", \"de...</td>\n",
       "    </tr>\n",
       "    <tr>\n",
       "      <th>1</th>\n",
       "      <td>285</td>\n",
       "      <td>Pirates of the Caribbean: At World's End</td>\n",
       "      <td>[{\"cast_id\": 4, \"character\": \"Captain Jack Spa...</td>\n",
       "      <td>[{\"credit_id\": \"52fe4232c3a36847f800b579\", \"de...</td>\n",
       "    </tr>\n",
       "  </tbody>\n",
       "</table>\n",
       "</div>"
      ],
      "text/plain": [
       "   movie_id                                     title  \\\n",
       "0     19995                                    Avatar   \n",
       "1       285  Pirates of the Caribbean: At World's End   \n",
       "\n",
       "                                                cast  \\\n",
       "0  [{\"cast_id\": 242, \"character\": \"Jake Sully\", \"...   \n",
       "1  [{\"cast_id\": 4, \"character\": \"Captain Jack Spa...   \n",
       "\n",
       "                                                crew  \n",
       "0  [{\"credit_id\": \"52fe48009251416c750aca23\", \"de...  \n",
       "1  [{\"credit_id\": \"52fe4232c3a36847f800b579\", \"de...  "
      ]
     },
     "execution_count": 6,
     "metadata": {},
     "output_type": "execute_result"
    }
   ],
   "source": [
    "credits.head(2)"
   ]
  },
  {
   "cell_type": "code",
   "execution_count": 7,
   "id": "5cfb82e7",
   "metadata": {
    "execution": {
     "iopub.execute_input": "2022-09-01T12:01:46.558999Z",
     "iopub.status.busy": "2022-09-01T12:01:46.558546Z",
     "iopub.status.idle": "2022-09-01T12:01:46.583022Z",
     "shell.execute_reply": "2022-09-01T12:01:46.581281Z"
    },
    "papermill": {
     "duration": 0.033778,
     "end_time": "2022-09-01T12:01:46.585665",
     "exception": false,
     "start_time": "2022-09-01T12:01:46.551887",
     "status": "completed"
    },
    "tags": []
   },
   "outputs": [
    {
     "data": {
      "text/html": [
       "<div>\n",
       "<style scoped>\n",
       "    .dataframe tbody tr th:only-of-type {\n",
       "        vertical-align: middle;\n",
       "    }\n",
       "\n",
       "    .dataframe tbody tr th {\n",
       "        vertical-align: top;\n",
       "    }\n",
       "\n",
       "    .dataframe thead th {\n",
       "        text-align: right;\n",
       "    }\n",
       "</style>\n",
       "<table border=\"1\" class=\"dataframe\">\n",
       "  <thead>\n",
       "    <tr style=\"text-align: right;\">\n",
       "      <th></th>\n",
       "      <th>budget</th>\n",
       "      <th>genres</th>\n",
       "      <th>homepage</th>\n",
       "      <th>id</th>\n",
       "      <th>keywords</th>\n",
       "      <th>original_language</th>\n",
       "      <th>original_title</th>\n",
       "      <th>overview</th>\n",
       "      <th>popularity</th>\n",
       "      <th>production_companies</th>\n",
       "      <th>production_countries</th>\n",
       "      <th>release_date</th>\n",
       "      <th>revenue</th>\n",
       "      <th>runtime</th>\n",
       "      <th>spoken_languages</th>\n",
       "      <th>status</th>\n",
       "      <th>tagline</th>\n",
       "      <th>title</th>\n",
       "      <th>vote_average</th>\n",
       "      <th>vote_count</th>\n",
       "    </tr>\n",
       "  </thead>\n",
       "  <tbody>\n",
       "    <tr>\n",
       "      <th>0</th>\n",
       "      <td>237000000</td>\n",
       "      <td>[{\"id\": 28, \"name\": \"Action\"}, {\"id\": 12, \"nam...</td>\n",
       "      <td>http://www.avatarmovie.com/</td>\n",
       "      <td>19995</td>\n",
       "      <td>[{\"id\": 1463, \"name\": \"culture clash\"}, {\"id\":...</td>\n",
       "      <td>en</td>\n",
       "      <td>Avatar</td>\n",
       "      <td>In the 22nd century, a paraplegic Marine is di...</td>\n",
       "      <td>150.437577</td>\n",
       "      <td>[{\"name\": \"Ingenious Film Partners\", \"id\": 289...</td>\n",
       "      <td>[{\"iso_3166_1\": \"US\", \"name\": \"United States o...</td>\n",
       "      <td>2009-12-10</td>\n",
       "      <td>2787965087</td>\n",
       "      <td>162.0</td>\n",
       "      <td>[{\"iso_639_1\": \"en\", \"name\": \"English\"}, {\"iso...</td>\n",
       "      <td>Released</td>\n",
       "      <td>Enter the World of Pandora.</td>\n",
       "      <td>Avatar</td>\n",
       "      <td>7.2</td>\n",
       "      <td>11800</td>\n",
       "    </tr>\n",
       "    <tr>\n",
       "      <th>1</th>\n",
       "      <td>300000000</td>\n",
       "      <td>[{\"id\": 12, \"name\": \"Adventure\"}, {\"id\": 14, \"...</td>\n",
       "      <td>http://disney.go.com/disneypictures/pirates/</td>\n",
       "      <td>285</td>\n",
       "      <td>[{\"id\": 270, \"name\": \"ocean\"}, {\"id\": 726, \"na...</td>\n",
       "      <td>en</td>\n",
       "      <td>Pirates of the Caribbean: At World's End</td>\n",
       "      <td>Captain Barbossa, long believed to be dead, ha...</td>\n",
       "      <td>139.082615</td>\n",
       "      <td>[{\"name\": \"Walt Disney Pictures\", \"id\": 2}, {\"...</td>\n",
       "      <td>[{\"iso_3166_1\": \"US\", \"name\": \"United States o...</td>\n",
       "      <td>2007-05-19</td>\n",
       "      <td>961000000</td>\n",
       "      <td>169.0</td>\n",
       "      <td>[{\"iso_639_1\": \"en\", \"name\": \"English\"}]</td>\n",
       "      <td>Released</td>\n",
       "      <td>At the end of the world, the adventure begins.</td>\n",
       "      <td>Pirates of the Caribbean: At World's End</td>\n",
       "      <td>6.9</td>\n",
       "      <td>4500</td>\n",
       "    </tr>\n",
       "  </tbody>\n",
       "</table>\n",
       "</div>"
      ],
      "text/plain": [
       "      budget                                             genres  \\\n",
       "0  237000000  [{\"id\": 28, \"name\": \"Action\"}, {\"id\": 12, \"nam...   \n",
       "1  300000000  [{\"id\": 12, \"name\": \"Adventure\"}, {\"id\": 14, \"...   \n",
       "\n",
       "                                       homepage     id  \\\n",
       "0                   http://www.avatarmovie.com/  19995   \n",
       "1  http://disney.go.com/disneypictures/pirates/    285   \n",
       "\n",
       "                                            keywords original_language  \\\n",
       "0  [{\"id\": 1463, \"name\": \"culture clash\"}, {\"id\":...                en   \n",
       "1  [{\"id\": 270, \"name\": \"ocean\"}, {\"id\": 726, \"na...                en   \n",
       "\n",
       "                             original_title  \\\n",
       "0                                    Avatar   \n",
       "1  Pirates of the Caribbean: At World's End   \n",
       "\n",
       "                                            overview  popularity  \\\n",
       "0  In the 22nd century, a paraplegic Marine is di...  150.437577   \n",
       "1  Captain Barbossa, long believed to be dead, ha...  139.082615   \n",
       "\n",
       "                                production_companies  \\\n",
       "0  [{\"name\": \"Ingenious Film Partners\", \"id\": 289...   \n",
       "1  [{\"name\": \"Walt Disney Pictures\", \"id\": 2}, {\"...   \n",
       "\n",
       "                                production_countries release_date     revenue  \\\n",
       "0  [{\"iso_3166_1\": \"US\", \"name\": \"United States o...   2009-12-10  2787965087   \n",
       "1  [{\"iso_3166_1\": \"US\", \"name\": \"United States o...   2007-05-19   961000000   \n",
       "\n",
       "   runtime                                   spoken_languages    status  \\\n",
       "0    162.0  [{\"iso_639_1\": \"en\", \"name\": \"English\"}, {\"iso...  Released   \n",
       "1    169.0           [{\"iso_639_1\": \"en\", \"name\": \"English\"}]  Released   \n",
       "\n",
       "                                          tagline  \\\n",
       "0                     Enter the World of Pandora.   \n",
       "1  At the end of the world, the adventure begins.   \n",
       "\n",
       "                                      title  vote_average  vote_count  \n",
       "0                                    Avatar           7.2       11800  \n",
       "1  Pirates of the Caribbean: At World's End           6.9        4500  "
      ]
     },
     "execution_count": 7,
     "metadata": {},
     "output_type": "execute_result"
    }
   ],
   "source": [
    "movies.head(2)"
   ]
  },
  {
   "cell_type": "markdown",
   "id": "e8ef7307",
   "metadata": {
    "papermill": {
     "duration": 0.005042,
     "end_time": "2022-09-01T12:01:46.596108",
     "exception": false,
     "start_time": "2022-09-01T12:01:46.591066",
     "status": "completed"
    },
    "tags": []
   },
   "source": [
    "## Combine both the dataset"
   ]
  },
  {
   "cell_type": "code",
   "execution_count": 8,
   "id": "6f6bdd19",
   "metadata": {
    "execution": {
     "iopub.execute_input": "2022-09-01T12:01:46.609293Z",
     "iopub.status.busy": "2022-09-01T12:01:46.608858Z",
     "iopub.status.idle": "2022-09-01T12:01:46.644351Z",
     "shell.execute_reply": "2022-09-01T12:01:46.643133Z"
    },
    "papermill": {
     "duration": 0.045928,
     "end_time": "2022-09-01T12:01:46.647880",
     "exception": false,
     "start_time": "2022-09-01T12:01:46.601952",
     "status": "completed"
    },
    "tags": []
   },
   "outputs": [],
   "source": [
    "df = pd.merge(movies, credits, left_on=\"id\", right_on=\"movie_id\")"
   ]
  },
  {
   "cell_type": "code",
   "execution_count": 9,
   "id": "293baccc",
   "metadata": {
    "execution": {
     "iopub.execute_input": "2022-09-01T12:01:46.660875Z",
     "iopub.status.busy": "2022-09-01T12:01:46.660410Z",
     "iopub.status.idle": "2022-09-01T12:01:46.669135Z",
     "shell.execute_reply": "2022-09-01T12:01:46.667613Z"
    },
    "papermill": {
     "duration": 0.019446,
     "end_time": "2022-09-01T12:01:46.672835",
     "exception": false,
     "start_time": "2022-09-01T12:01:46.653389",
     "status": "completed"
    },
    "tags": []
   },
   "outputs": [
    {
     "data": {
      "text/plain": [
       "((4803, 4), (4803, 20), (4803, 24))"
      ]
     },
     "execution_count": 9,
     "metadata": {},
     "output_type": "execute_result"
    }
   ],
   "source": [
    "credits.shape, movies.shape, df.shape"
   ]
  },
  {
   "cell_type": "code",
   "execution_count": 10,
   "id": "d9f57c3f",
   "metadata": {
    "execution": {
     "iopub.execute_input": "2022-09-01T12:01:46.687706Z",
     "iopub.status.busy": "2022-09-01T12:01:46.687330Z",
     "iopub.status.idle": "2022-09-01T12:01:46.719944Z",
     "shell.execute_reply": "2022-09-01T12:01:46.717620Z"
    },
    "papermill": {
     "duration": 0.044576,
     "end_time": "2022-09-01T12:01:46.723245",
     "exception": false,
     "start_time": "2022-09-01T12:01:46.678669",
     "status": "completed"
    },
    "tags": []
   },
   "outputs": [
    {
     "name": "stdout",
     "output_type": "stream",
     "text": [
      "<class 'pandas.core.frame.DataFrame'>\n",
      "Int64Index: 4803 entries, 0 to 4802\n",
      "Data columns (total 24 columns):\n",
      " #   Column                Non-Null Count  Dtype  \n",
      "---  ------                --------------  -----  \n",
      " 0   budget                4803 non-null   int64  \n",
      " 1   genres                4803 non-null   object \n",
      " 2   homepage              1712 non-null   object \n",
      " 3   id                    4803 non-null   int64  \n",
      " 4   keywords              4803 non-null   object \n",
      " 5   original_language     4803 non-null   object \n",
      " 6   original_title        4803 non-null   object \n",
      " 7   overview              4800 non-null   object \n",
      " 8   popularity            4803 non-null   float64\n",
      " 9   production_companies  4803 non-null   object \n",
      " 10  production_countries  4803 non-null   object \n",
      " 11  release_date          4802 non-null   object \n",
      " 12  revenue               4803 non-null   int64  \n",
      " 13  runtime               4801 non-null   float64\n",
      " 14  spoken_languages      4803 non-null   object \n",
      " 15  status                4803 non-null   object \n",
      " 16  tagline               3959 non-null   object \n",
      " 17  title_x               4803 non-null   object \n",
      " 18  vote_average          4803 non-null   float64\n",
      " 19  vote_count            4803 non-null   int64  \n",
      " 20  movie_id              4803 non-null   int64  \n",
      " 21  title_y               4803 non-null   object \n",
      " 22  cast                  4803 non-null   object \n",
      " 23  crew                  4803 non-null   object \n",
      "dtypes: float64(3), int64(5), object(16)\n",
      "memory usage: 938.1+ KB\n"
     ]
    }
   ],
   "source": [
    "df.info()"
   ]
  },
  {
   "cell_type": "markdown",
   "id": "392759ee",
   "metadata": {
    "papermill": {
     "duration": 0.005218,
     "end_time": "2022-09-01T12:01:46.734188",
     "exception": false,
     "start_time": "2022-09-01T12:01:46.728970",
     "status": "completed"
    },
    "tags": []
   },
   "source": [
    "# Models"
   ]
  },
  {
   "cell_type": "markdown",
   "id": "d596b5d3",
   "metadata": {
    "papermill": {
     "duration": 0.005272,
     "end_time": "2022-09-01T12:01:46.744834",
     "exception": false,
     "start_time": "2022-09-01T12:01:46.739562",
     "status": "completed"
    },
    "tags": []
   },
   "source": [
    "## Weighted Average"
   ]
  },
  {
   "cell_type": "code",
   "execution_count": null,
   "id": "950969fa",
   "metadata": {
    "papermill": {
     "duration": 0.005138,
     "end_time": "2022-09-01T12:01:46.755386",
     "exception": false,
     "start_time": "2022-09-01T12:01:46.750248",
     "status": "completed"
    },
    "tags": []
   },
   "outputs": [],
   "source": []
  }
 ],
 "metadata": {
  "kernelspec": {
   "display_name": "Python 3",
   "language": "python",
   "name": "python3"
  },
  "language_info": {
   "codemirror_mode": {
    "name": "ipython",
    "version": 3
   },
   "file_extension": ".py",
   "mimetype": "text/x-python",
   "name": "python",
   "nbconvert_exporter": "python",
   "pygments_lexer": "ipython3",
   "version": "3.7.12"
  },
  "papermill": {
   "default_parameters": {},
   "duration": 13.57708,
   "end_time": "2022-09-01T12:01:47.485962",
   "environment_variables": {},
   "exception": null,
   "input_path": "__notebook__.ipynb",
   "output_path": "__notebook__.ipynb",
   "parameters": {},
   "start_time": "2022-09-01T12:01:33.908882",
   "version": "2.3.4"
  }
 },
 "nbformat": 4,
 "nbformat_minor": 5
}
