{
 "cells": [
  {
   "cell_type": "markdown",
   "id": "e7950dc6",
   "metadata": {
    "papermill": {
     "duration": 0.017672,
     "end_time": "2022-09-09T10:53:17.073701",
     "exception": false,
     "start_time": "2022-09-09T10:53:17.056029",
     "status": "completed"
    },
    "tags": []
   },
   "source": [
    "\n",
    "# Library Imports"
   ]
  },
  {
   "cell_type": "code",
   "execution_count": 1,
   "id": "b2285c38",
   "metadata": {
    "execution": {
     "iopub.execute_input": "2022-09-09T10:53:17.107338Z",
     "iopub.status.busy": "2022-09-09T10:53:17.106684Z",
     "iopub.status.idle": "2022-09-09T10:53:18.654472Z",
     "shell.execute_reply": "2022-09-09T10:53:18.653243Z"
    },
    "papermill": {
     "duration": 1.567331,
     "end_time": "2022-09-09T10:53:18.657560",
     "exception": false,
     "start_time": "2022-09-09T10:53:17.090229",
     "status": "completed"
    },
    "tags": []
   },
   "outputs": [
    {
     "name": "stdout",
     "output_type": "stream",
     "text": [
      "/kaggle/input/tmdb-movie-metadata/tmdb_5000_movies.csv\n",
      "/kaggle/input/tmdb-movie-metadata/tmdb_5000_credits.csv\n"
     ]
    }
   ],
   "source": [
    "import os\n",
    "for dirname, _, filenames in os.walk('/kaggle/input'):\n",
    "    for filename in filenames:\n",
    "        print(os.path.join(dirname, filename))\n",
    "\n",
    "        \n",
    "import numpy as np # linear algebra\n",
    "import pandas as pd # data processing\n",
    "import ast # abstract syntax tree - for processing\n",
    "import json # processing json\n",
    "import nltk # for stemming words using PorterStemmer\n",
    "from nltk.stem.porter import PorterStemmer\n",
    "from pandas import json_normalize # for normalization \n",
    "from sklearn.feature_extraction.text import TfidfVectorizer # For vectorizing text\n",
    "from sklearn.metrics.pairwise import cosine_similarity # to calculate similarity"
   ]
  },
  {
   "cell_type": "markdown",
   "id": "af78d4d1",
   "metadata": {
    "papermill": {
     "duration": 0.013738,
     "end_time": "2022-09-09T10:53:18.687226",
     "exception": false,
     "start_time": "2022-09-09T10:53:18.673488",
     "status": "completed"
    },
    "tags": []
   },
   "source": [
    "# Load Data"
   ]
  },
  {
   "cell_type": "code",
   "execution_count": 2,
   "id": "1e06fb5b",
   "metadata": {
    "execution": {
     "iopub.execute_input": "2022-09-09T10:53:18.717231Z",
     "iopub.status.busy": "2022-09-09T10:53:18.716804Z",
     "iopub.status.idle": "2022-09-09T10:53:19.873717Z",
     "shell.execute_reply": "2022-09-09T10:53:19.872360Z"
    },
    "papermill": {
     "duration": 1.175295,
     "end_time": "2022-09-09T10:53:19.876584",
     "exception": false,
     "start_time": "2022-09-09T10:53:18.701289",
     "status": "completed"
    },
    "tags": []
   },
   "outputs": [],
   "source": [
    "credits = pd.read_csv(\"../input/tmdb-movie-metadata/tmdb_5000_credits.csv\")\n",
    "movies = pd.read_csv(\"../input/tmdb-movie-metadata/tmdb_5000_movies.csv\")\n",
    "\n",
    "# merging both the data set on ids\n",
    "df = pd.merge(movies, credits, left_on=\"id\", right_on=\"movie_id\")"
   ]
  },
  {
   "cell_type": "markdown",
   "id": "2981ad0b",
   "metadata": {
    "papermill": {
     "duration": 0.013992,
     "end_time": "2022-09-09T10:53:19.905283",
     "exception": false,
     "start_time": "2022-09-09T10:53:19.891291",
     "status": "completed"
    },
    "tags": []
   },
   "source": [
    "# Understanding Data "
   ]
  },
  {
   "cell_type": "code",
   "execution_count": 3,
   "id": "e680675c",
   "metadata": {
    "execution": {
     "iopub.execute_input": "2022-09-09T10:53:19.935674Z",
     "iopub.status.busy": "2022-09-09T10:53:19.934850Z",
     "iopub.status.idle": "2022-09-09T10:53:19.967496Z",
     "shell.execute_reply": "2022-09-09T10:53:19.966275Z"
    },
    "papermill": {
     "duration": 0.050748,
     "end_time": "2022-09-09T10:53:19.970107",
     "exception": false,
     "start_time": "2022-09-09T10:53:19.919359",
     "status": "completed"
    },
    "tags": []
   },
   "outputs": [
    {
     "data": {
      "text/html": [
       "<div>\n",
       "<style scoped>\n",
       "    .dataframe tbody tr th:only-of-type {\n",
       "        vertical-align: middle;\n",
       "    }\n",
       "\n",
       "    .dataframe tbody tr th {\n",
       "        vertical-align: top;\n",
       "    }\n",
       "\n",
       "    .dataframe thead th {\n",
       "        text-align: right;\n",
       "    }\n",
       "</style>\n",
       "<table border=\"1\" class=\"dataframe\">\n",
       "  <thead>\n",
       "    <tr style=\"text-align: right;\">\n",
       "      <th></th>\n",
       "      <th>budget</th>\n",
       "      <th>genres</th>\n",
       "      <th>homepage</th>\n",
       "      <th>id</th>\n",
       "      <th>keywords</th>\n",
       "      <th>original_language</th>\n",
       "      <th>original_title</th>\n",
       "      <th>overview</th>\n",
       "      <th>popularity</th>\n",
       "      <th>production_companies</th>\n",
       "      <th>...</th>\n",
       "      <th>spoken_languages</th>\n",
       "      <th>status</th>\n",
       "      <th>tagline</th>\n",
       "      <th>title_x</th>\n",
       "      <th>vote_average</th>\n",
       "      <th>vote_count</th>\n",
       "      <th>movie_id</th>\n",
       "      <th>title_y</th>\n",
       "      <th>cast</th>\n",
       "      <th>crew</th>\n",
       "    </tr>\n",
       "  </thead>\n",
       "  <tbody>\n",
       "    <tr>\n",
       "      <th>0</th>\n",
       "      <td>237000000</td>\n",
       "      <td>[{\"id\": 28, \"name\": \"Action\"}, {\"id\": 12, \"nam...</td>\n",
       "      <td>http://www.avatarmovie.com/</td>\n",
       "      <td>19995</td>\n",
       "      <td>[{\"id\": 1463, \"name\": \"culture clash\"}, {\"id\":...</td>\n",
       "      <td>en</td>\n",
       "      <td>Avatar</td>\n",
       "      <td>In the 22nd century, a paraplegic Marine is di...</td>\n",
       "      <td>150.437577</td>\n",
       "      <td>[{\"name\": \"Ingenious Film Partners\", \"id\": 289...</td>\n",
       "      <td>...</td>\n",
       "      <td>[{\"iso_639_1\": \"en\", \"name\": \"English\"}, {\"iso...</td>\n",
       "      <td>Released</td>\n",
       "      <td>Enter the World of Pandora.</td>\n",
       "      <td>Avatar</td>\n",
       "      <td>7.2</td>\n",
       "      <td>11800</td>\n",
       "      <td>19995</td>\n",
       "      <td>Avatar</td>\n",
       "      <td>[{\"cast_id\": 242, \"character\": \"Jake Sully\", \"...</td>\n",
       "      <td>[{\"credit_id\": \"52fe48009251416c750aca23\", \"de...</td>\n",
       "    </tr>\n",
       "    <tr>\n",
       "      <th>1</th>\n",
       "      <td>300000000</td>\n",
       "      <td>[{\"id\": 12, \"name\": \"Adventure\"}, {\"id\": 14, \"...</td>\n",
       "      <td>http://disney.go.com/disneypictures/pirates/</td>\n",
       "      <td>285</td>\n",
       "      <td>[{\"id\": 270, \"name\": \"ocean\"}, {\"id\": 726, \"na...</td>\n",
       "      <td>en</td>\n",
       "      <td>Pirates of the Caribbean: At World's End</td>\n",
       "      <td>Captain Barbossa, long believed to be dead, ha...</td>\n",
       "      <td>139.082615</td>\n",
       "      <td>[{\"name\": \"Walt Disney Pictures\", \"id\": 2}, {\"...</td>\n",
       "      <td>...</td>\n",
       "      <td>[{\"iso_639_1\": \"en\", \"name\": \"English\"}]</td>\n",
       "      <td>Released</td>\n",
       "      <td>At the end of the world, the adventure begins.</td>\n",
       "      <td>Pirates of the Caribbean: At World's End</td>\n",
       "      <td>6.9</td>\n",
       "      <td>4500</td>\n",
       "      <td>285</td>\n",
       "      <td>Pirates of the Caribbean: At World's End</td>\n",
       "      <td>[{\"cast_id\": 4, \"character\": \"Captain Jack Spa...</td>\n",
       "      <td>[{\"credit_id\": \"52fe4232c3a36847f800b579\", \"de...</td>\n",
       "    </tr>\n",
       "    <tr>\n",
       "      <th>2</th>\n",
       "      <td>245000000</td>\n",
       "      <td>[{\"id\": 28, \"name\": \"Action\"}, {\"id\": 12, \"nam...</td>\n",
       "      <td>http://www.sonypictures.com/movies/spectre/</td>\n",
       "      <td>206647</td>\n",
       "      <td>[{\"id\": 470, \"name\": \"spy\"}, {\"id\": 818, \"name...</td>\n",
       "      <td>en</td>\n",
       "      <td>Spectre</td>\n",
       "      <td>A cryptic message from Bond’s past sends him o...</td>\n",
       "      <td>107.376788</td>\n",
       "      <td>[{\"name\": \"Columbia Pictures\", \"id\": 5}, {\"nam...</td>\n",
       "      <td>...</td>\n",
       "      <td>[{\"iso_639_1\": \"fr\", \"name\": \"Fran\\u00e7ais\"},...</td>\n",
       "      <td>Released</td>\n",
       "      <td>A Plan No One Escapes</td>\n",
       "      <td>Spectre</td>\n",
       "      <td>6.3</td>\n",
       "      <td>4466</td>\n",
       "      <td>206647</td>\n",
       "      <td>Spectre</td>\n",
       "      <td>[{\"cast_id\": 1, \"character\": \"James Bond\", \"cr...</td>\n",
       "      <td>[{\"credit_id\": \"54805967c3a36829b5002c41\", \"de...</td>\n",
       "    </tr>\n",
       "  </tbody>\n",
       "</table>\n",
       "<p>3 rows × 24 columns</p>\n",
       "</div>"
      ],
      "text/plain": [
       "      budget                                             genres  \\\n",
       "0  237000000  [{\"id\": 28, \"name\": \"Action\"}, {\"id\": 12, \"nam...   \n",
       "1  300000000  [{\"id\": 12, \"name\": \"Adventure\"}, {\"id\": 14, \"...   \n",
       "2  245000000  [{\"id\": 28, \"name\": \"Action\"}, {\"id\": 12, \"nam...   \n",
       "\n",
       "                                       homepage      id  \\\n",
       "0                   http://www.avatarmovie.com/   19995   \n",
       "1  http://disney.go.com/disneypictures/pirates/     285   \n",
       "2   http://www.sonypictures.com/movies/spectre/  206647   \n",
       "\n",
       "                                            keywords original_language  \\\n",
       "0  [{\"id\": 1463, \"name\": \"culture clash\"}, {\"id\":...                en   \n",
       "1  [{\"id\": 270, \"name\": \"ocean\"}, {\"id\": 726, \"na...                en   \n",
       "2  [{\"id\": 470, \"name\": \"spy\"}, {\"id\": 818, \"name...                en   \n",
       "\n",
       "                             original_title  \\\n",
       "0                                    Avatar   \n",
       "1  Pirates of the Caribbean: At World's End   \n",
       "2                                   Spectre   \n",
       "\n",
       "                                            overview  popularity  \\\n",
       "0  In the 22nd century, a paraplegic Marine is di...  150.437577   \n",
       "1  Captain Barbossa, long believed to be dead, ha...  139.082615   \n",
       "2  A cryptic message from Bond’s past sends him o...  107.376788   \n",
       "\n",
       "                                production_companies  ...  \\\n",
       "0  [{\"name\": \"Ingenious Film Partners\", \"id\": 289...  ...   \n",
       "1  [{\"name\": \"Walt Disney Pictures\", \"id\": 2}, {\"...  ...   \n",
       "2  [{\"name\": \"Columbia Pictures\", \"id\": 5}, {\"nam...  ...   \n",
       "\n",
       "                                    spoken_languages    status  \\\n",
       "0  [{\"iso_639_1\": \"en\", \"name\": \"English\"}, {\"iso...  Released   \n",
       "1           [{\"iso_639_1\": \"en\", \"name\": \"English\"}]  Released   \n",
       "2  [{\"iso_639_1\": \"fr\", \"name\": \"Fran\\u00e7ais\"},...  Released   \n",
       "\n",
       "                                          tagline  \\\n",
       "0                     Enter the World of Pandora.   \n",
       "1  At the end of the world, the adventure begins.   \n",
       "2                           A Plan No One Escapes   \n",
       "\n",
       "                                    title_x vote_average vote_count movie_id  \\\n",
       "0                                    Avatar          7.2      11800    19995   \n",
       "1  Pirates of the Caribbean: At World's End          6.9       4500      285   \n",
       "2                                   Spectre          6.3       4466   206647   \n",
       "\n",
       "                                    title_y  \\\n",
       "0                                    Avatar   \n",
       "1  Pirates of the Caribbean: At World's End   \n",
       "2                                   Spectre   \n",
       "\n",
       "                                                cast  \\\n",
       "0  [{\"cast_id\": 242, \"character\": \"Jake Sully\", \"...   \n",
       "1  [{\"cast_id\": 4, \"character\": \"Captain Jack Spa...   \n",
       "2  [{\"cast_id\": 1, \"character\": \"James Bond\", \"cr...   \n",
       "\n",
       "                                                crew  \n",
       "0  [{\"credit_id\": \"52fe48009251416c750aca23\", \"de...  \n",
       "1  [{\"credit_id\": \"52fe4232c3a36847f800b579\", \"de...  \n",
       "2  [{\"credit_id\": \"54805967c3a36829b5002c41\", \"de...  \n",
       "\n",
       "[3 rows x 24 columns]"
      ]
     },
     "execution_count": 3,
     "metadata": {},
     "output_type": "execute_result"
    }
   ],
   "source": [
    "# check for top 3 records in the dataframe\n",
    "df.head(3)"
   ]
  },
  {
   "cell_type": "code",
   "execution_count": 4,
   "id": "52bf057f",
   "metadata": {
    "execution": {
     "iopub.execute_input": "2022-09-09T10:53:20.002648Z",
     "iopub.status.busy": "2022-09-09T10:53:20.002216Z",
     "iopub.status.idle": "2022-09-09T10:53:20.010151Z",
     "shell.execute_reply": "2022-09-09T10:53:20.008894Z"
    },
    "papermill": {
     "duration": 0.027177,
     "end_time": "2022-09-09T10:53:20.012613",
     "exception": false,
     "start_time": "2022-09-09T10:53:19.985436",
     "status": "completed"
    },
    "tags": []
   },
   "outputs": [
    {
     "data": {
      "text/plain": [
       "((4803, 20), (4803, 4), (4803, 24))"
      ]
     },
     "execution_count": 4,
     "metadata": {},
     "output_type": "execute_result"
    }
   ],
   "source": [
    "# what is the size of the movie before and after merge\n",
    "movies.shape, credits.shape, df.shape"
   ]
  },
  {
   "cell_type": "code",
   "execution_count": 5,
   "id": "4587e6c7",
   "metadata": {
    "execution": {
     "iopub.execute_input": "2022-09-09T10:53:20.044688Z",
     "iopub.status.busy": "2022-09-09T10:53:20.044287Z",
     "iopub.status.idle": "2022-09-09T10:53:20.072427Z",
     "shell.execute_reply": "2022-09-09T10:53:20.070355Z"
    },
    "papermill": {
     "duration": 0.047293,
     "end_time": "2022-09-09T10:53:20.075072",
     "exception": false,
     "start_time": "2022-09-09T10:53:20.027779",
     "status": "completed"
    },
    "tags": []
   },
   "outputs": [
    {
     "name": "stdout",
     "output_type": "stream",
     "text": [
      "<class 'pandas.core.frame.DataFrame'>\n",
      "Int64Index: 4803 entries, 0 to 4802\n",
      "Data columns (total 24 columns):\n",
      " #   Column                Non-Null Count  Dtype  \n",
      "---  ------                --------------  -----  \n",
      " 0   budget                4803 non-null   int64  \n",
      " 1   genres                4803 non-null   object \n",
      " 2   homepage              1712 non-null   object \n",
      " 3   id                    4803 non-null   int64  \n",
      " 4   keywords              4803 non-null   object \n",
      " 5   original_language     4803 non-null   object \n",
      " 6   original_title        4803 non-null   object \n",
      " 7   overview              4800 non-null   object \n",
      " 8   popularity            4803 non-null   float64\n",
      " 9   production_companies  4803 non-null   object \n",
      " 10  production_countries  4803 non-null   object \n",
      " 11  release_date          4802 non-null   object \n",
      " 12  revenue               4803 non-null   int64  \n",
      " 13  runtime               4801 non-null   float64\n",
      " 14  spoken_languages      4803 non-null   object \n",
      " 15  status                4803 non-null   object \n",
      " 16  tagline               3959 non-null   object \n",
      " 17  title_x               4803 non-null   object \n",
      " 18  vote_average          4803 non-null   float64\n",
      " 19  vote_count            4803 non-null   int64  \n",
      " 20  movie_id              4803 non-null   int64  \n",
      " 21  title_y               4803 non-null   object \n",
      " 22  cast                  4803 non-null   object \n",
      " 23  crew                  4803 non-null   object \n",
      "dtypes: float64(3), int64(5), object(16)\n",
      "memory usage: 938.1+ KB\n"
     ]
    }
   ],
   "source": [
    "# check the datatype\n",
    "df.info()"
   ]
  },
  {
   "cell_type": "markdown",
   "id": "49c07b9b",
   "metadata": {
    "papermill": {
     "duration": 0.014422,
     "end_time": "2022-09-09T10:53:20.104576",
     "exception": false,
     "start_time": "2022-09-09T10:53:20.090154",
     "status": "completed"
    },
    "tags": []
   },
   "source": [
    "# Content Based"
   ]
  },
  {
   "cell_type": "markdown",
   "id": "f10bdaa1",
   "metadata": {
    "papermill": {
     "duration": 0.014309,
     "end_time": "2022-09-09T10:53:20.133513",
     "exception": false,
     "start_time": "2022-09-09T10:53:20.119204",
     "status": "completed"
    },
    "tags": []
   },
   "source": [
    "## Step 1. Select columns\n",
    "\n",
    "Columns selected\n",
    "\n",
    "* `id`\n",
    "* `original_title`\n",
    "* `overview`\n",
    "* `genres`\n",
    "* `keywords`\n",
    "* `cast`\n",
    "* `crew`"
   ]
  },
  {
   "cell_type": "code",
   "execution_count": 6,
   "id": "5a80ccd9",
   "metadata": {
    "execution": {
     "iopub.execute_input": "2022-09-09T10:53:20.165201Z",
     "iopub.status.busy": "2022-09-09T10:53:20.163905Z",
     "iopub.status.idle": "2022-09-09T10:53:20.184740Z",
     "shell.execute_reply": "2022-09-09T10:53:20.183585Z"
    },
    "papermill": {
     "duration": 0.039066,
     "end_time": "2022-09-09T10:53:20.187204",
     "exception": false,
     "start_time": "2022-09-09T10:53:20.148138",
     "status": "completed"
    },
    "tags": []
   },
   "outputs": [
    {
     "data": {
      "text/html": [
       "<div>\n",
       "<style scoped>\n",
       "    .dataframe tbody tr th:only-of-type {\n",
       "        vertical-align: middle;\n",
       "    }\n",
       "\n",
       "    .dataframe tbody tr th {\n",
       "        vertical-align: top;\n",
       "    }\n",
       "\n",
       "    .dataframe thead th {\n",
       "        text-align: right;\n",
       "    }\n",
       "</style>\n",
       "<table border=\"1\" class=\"dataframe\">\n",
       "  <thead>\n",
       "    <tr style=\"text-align: right;\">\n",
       "      <th></th>\n",
       "      <th>id</th>\n",
       "      <th>original_title</th>\n",
       "      <th>overview</th>\n",
       "      <th>genres</th>\n",
       "      <th>keywords</th>\n",
       "      <th>cast</th>\n",
       "      <th>crew</th>\n",
       "    </tr>\n",
       "  </thead>\n",
       "  <tbody>\n",
       "    <tr>\n",
       "      <th>0</th>\n",
       "      <td>19995</td>\n",
       "      <td>Avatar</td>\n",
       "      <td>In the 22nd century, a paraplegic Marine is di...</td>\n",
       "      <td>[{\"id\": 28, \"name\": \"Action\"}, {\"id\": 12, \"nam...</td>\n",
       "      <td>[{\"id\": 1463, \"name\": \"culture clash\"}, {\"id\":...</td>\n",
       "      <td>[{\"cast_id\": 242, \"character\": \"Jake Sully\", \"...</td>\n",
       "      <td>[{\"credit_id\": \"52fe48009251416c750aca23\", \"de...</td>\n",
       "    </tr>\n",
       "    <tr>\n",
       "      <th>1</th>\n",
       "      <td>285</td>\n",
       "      <td>Pirates of the Caribbean: At World's End</td>\n",
       "      <td>Captain Barbossa, long believed to be dead, ha...</td>\n",
       "      <td>[{\"id\": 12, \"name\": \"Adventure\"}, {\"id\": 14, \"...</td>\n",
       "      <td>[{\"id\": 270, \"name\": \"ocean\"}, {\"id\": 726, \"na...</td>\n",
       "      <td>[{\"cast_id\": 4, \"character\": \"Captain Jack Spa...</td>\n",
       "      <td>[{\"credit_id\": \"52fe4232c3a36847f800b579\", \"de...</td>\n",
       "    </tr>\n",
       "    <tr>\n",
       "      <th>2</th>\n",
       "      <td>206647</td>\n",
       "      <td>Spectre</td>\n",
       "      <td>A cryptic message from Bond’s past sends him o...</td>\n",
       "      <td>[{\"id\": 28, \"name\": \"Action\"}, {\"id\": 12, \"nam...</td>\n",
       "      <td>[{\"id\": 470, \"name\": \"spy\"}, {\"id\": 818, \"name...</td>\n",
       "      <td>[{\"cast_id\": 1, \"character\": \"James Bond\", \"cr...</td>\n",
       "      <td>[{\"credit_id\": \"54805967c3a36829b5002c41\", \"de...</td>\n",
       "    </tr>\n",
       "  </tbody>\n",
       "</table>\n",
       "</div>"
      ],
      "text/plain": [
       "       id                            original_title  \\\n",
       "0   19995                                    Avatar   \n",
       "1     285  Pirates of the Caribbean: At World's End   \n",
       "2  206647                                   Spectre   \n",
       "\n",
       "                                            overview  \\\n",
       "0  In the 22nd century, a paraplegic Marine is di...   \n",
       "1  Captain Barbossa, long believed to be dead, ha...   \n",
       "2  A cryptic message from Bond’s past sends him o...   \n",
       "\n",
       "                                              genres  \\\n",
       "0  [{\"id\": 28, \"name\": \"Action\"}, {\"id\": 12, \"nam...   \n",
       "1  [{\"id\": 12, \"name\": \"Adventure\"}, {\"id\": 14, \"...   \n",
       "2  [{\"id\": 28, \"name\": \"Action\"}, {\"id\": 12, \"nam...   \n",
       "\n",
       "                                            keywords  \\\n",
       "0  [{\"id\": 1463, \"name\": \"culture clash\"}, {\"id\":...   \n",
       "1  [{\"id\": 270, \"name\": \"ocean\"}, {\"id\": 726, \"na...   \n",
       "2  [{\"id\": 470, \"name\": \"spy\"}, {\"id\": 818, \"name...   \n",
       "\n",
       "                                                cast  \\\n",
       "0  [{\"cast_id\": 242, \"character\": \"Jake Sully\", \"...   \n",
       "1  [{\"cast_id\": 4, \"character\": \"Captain Jack Spa...   \n",
       "2  [{\"cast_id\": 1, \"character\": \"James Bond\", \"cr...   \n",
       "\n",
       "                                                crew  \n",
       "0  [{\"credit_id\": \"52fe48009251416c750aca23\", \"de...  \n",
       "1  [{\"credit_id\": \"52fe4232c3a36847f800b579\", \"de...  \n",
       "2  [{\"credit_id\": \"54805967c3a36829b5002c41\", \"de...  "
      ]
     },
     "execution_count": 6,
     "metadata": {},
     "output_type": "execute_result"
    }
   ],
   "source": [
    "# select only few columns from the main dataframe\n",
    "collab_df = df[[ 'id','original_title', 'overview', 'genres', 'keywords',  'cast', 'crew']]\n",
    "collab_df.head(3)"
   ]
  },
  {
   "cell_type": "markdown",
   "id": "d20dbc52",
   "metadata": {
    "papermill": {
     "duration": 0.014645,
     "end_time": "2022-09-09T10:53:20.217275",
     "exception": false,
     "start_time": "2022-09-09T10:53:20.202630",
     "status": "completed"
    },
    "tags": []
   },
   "source": [
    "## Step 2. Preprocessing \n",
    "\n",
    "Convert genres, keywords, cast and crew to a list"
   ]
  },
  {
   "cell_type": "code",
   "execution_count": 7,
   "id": "80938aff",
   "metadata": {
    "execution": {
     "iopub.execute_input": "2022-09-09T10:53:20.248734Z",
     "iopub.status.busy": "2022-09-09T10:53:20.248236Z",
     "iopub.status.idle": "2022-09-09T10:53:20.256016Z",
     "shell.execute_reply": "2022-09-09T10:53:20.254982Z"
    },
    "papermill": {
     "duration": 0.025917,
     "end_time": "2022-09-09T10:53:20.258157",
     "exception": false,
     "start_time": "2022-09-09T10:53:20.232240",
     "status": "completed"
    },
    "tags": []
   },
   "outputs": [
    {
     "data": {
      "text/plain": [
       "Index(['id', 'original_title', 'overview', 'genres', 'keywords', 'cast',\n",
       "       'crew'],\n",
       "      dtype='object')"
      ]
     },
     "execution_count": 7,
     "metadata": {},
     "output_type": "execute_result"
    }
   ],
   "source": [
    "collab_df.columns"
   ]
  },
  {
   "cell_type": "code",
   "execution_count": 8,
   "id": "467af1bf",
   "metadata": {
    "execution": {
     "iopub.execute_input": "2022-09-09T10:53:20.289322Z",
     "iopub.status.busy": "2022-09-09T10:53:20.288685Z",
     "iopub.status.idle": "2022-09-09T10:53:20.302829Z",
     "shell.execute_reply": "2022-09-09T10:53:20.301752Z"
    },
    "papermill": {
     "duration": 0.032051,
     "end_time": "2022-09-09T10:53:20.304993",
     "exception": false,
     "start_time": "2022-09-09T10:53:20.272942",
     "status": "completed"
    },
    "tags": []
   },
   "outputs": [
    {
     "data": {
      "text/html": [
       "<div>\n",
       "<style scoped>\n",
       "    .dataframe tbody tr th:only-of-type {\n",
       "        vertical-align: middle;\n",
       "    }\n",
       "\n",
       "    .dataframe tbody tr th {\n",
       "        vertical-align: top;\n",
       "    }\n",
       "\n",
       "    .dataframe thead th {\n",
       "        text-align: right;\n",
       "    }\n",
       "</style>\n",
       "<table border=\"1\" class=\"dataframe\">\n",
       "  <thead>\n",
       "    <tr style=\"text-align: right;\">\n",
       "      <th></th>\n",
       "      <th>id</th>\n",
       "      <th>original_title</th>\n",
       "      <th>overview</th>\n",
       "      <th>genres</th>\n",
       "      <th>keywords</th>\n",
       "      <th>cast</th>\n",
       "      <th>crew</th>\n",
       "    </tr>\n",
       "  </thead>\n",
       "  <tbody>\n",
       "    <tr>\n",
       "      <th>96</th>\n",
       "      <td>27205</td>\n",
       "      <td>Inception</td>\n",
       "      <td>Cobb, a skilled thief who commits corporate es...</td>\n",
       "      <td>[{\"id\": 28, \"name\": \"Action\"}, {\"id\": 53, \"nam...</td>\n",
       "      <td>[{\"id\": 1014, \"name\": \"loss of lover\"}, {\"id\":...</td>\n",
       "      <td>[{\"cast_id\": 1, \"character\": \"Dom Cobb\", \"cred...</td>\n",
       "      <td>[{\"credit_id\": \"56e8462cc3a368408400354c\", \"de...</td>\n",
       "    </tr>\n",
       "  </tbody>\n",
       "</table>\n",
       "</div>"
      ],
      "text/plain": [
       "       id original_title                                           overview  \\\n",
       "96  27205      Inception  Cobb, a skilled thief who commits corporate es...   \n",
       "\n",
       "                                               genres  \\\n",
       "96  [{\"id\": 28, \"name\": \"Action\"}, {\"id\": 53, \"nam...   \n",
       "\n",
       "                                             keywords  \\\n",
       "96  [{\"id\": 1014, \"name\": \"loss of lover\"}, {\"id\":...   \n",
       "\n",
       "                                                 cast  \\\n",
       "96  [{\"cast_id\": 1, \"character\": \"Dom Cobb\", \"cred...   \n",
       "\n",
       "                                                 crew  \n",
       "96  [{\"credit_id\": \"56e8462cc3a368408400354c\", \"de...  "
      ]
     },
     "execution_count": 8,
     "metadata": {},
     "output_type": "execute_result"
    }
   ],
   "source": [
    "# sample record\n",
    "collab_df[collab_df['original_title'] == 'Inception']"
   ]
  },
  {
   "cell_type": "code",
   "execution_count": 9,
   "id": "01f4ef8e",
   "metadata": {
    "execution": {
     "iopub.execute_input": "2022-09-09T10:53:20.336895Z",
     "iopub.status.busy": "2022-09-09T10:53:20.336257Z",
     "iopub.status.idle": "2022-09-09T10:53:20.340121Z",
     "shell.execute_reply": "2022-09-09T10:53:20.339375Z"
    },
    "papermill": {
     "duration": 0.022048,
     "end_time": "2022-09-09T10:53:20.342155",
     "exception": false,
     "start_time": "2022-09-09T10:53:20.320107",
     "status": "completed"
    },
    "tags": []
   },
   "outputs": [],
   "source": [
    "# # for testing\n",
    "# collab_df['original_title'][0:2]\n",
    "# json.loads(collab_df['genres'][0])\n",
    "# json.loads(collab_df['keywords'][0])\n",
    "# json.loads(collab_df['crew'][0])[4:10]\n",
    "\n",
    "# # for testing\n",
    "# json.loads(collab_df['cast'][0])[0]\n",
    "# ast.literal_eval(collab_df['crew'][0])[0]\n",
    "# ast.literal_eval(collab_df['crew'][0])[0]\n",
    "# ast.literal_eval(collab_df['crew'][0])[0]"
   ]
  },
  {
   "cell_type": "markdown",
   "id": "88172884",
   "metadata": {
    "papermill": {
     "duration": 0.014912,
     "end_time": "2022-09-09T10:53:20.372095",
     "exception": false,
     "start_time": "2022-09-09T10:53:20.357183",
     "status": "completed"
    },
    "tags": []
   },
   "source": []
  },
  {
   "cell_type": "markdown",
   "id": "fb27e445",
   "metadata": {
    "papermill": {
     "duration": 0.014718,
     "end_time": "2022-09-09T10:53:20.402032",
     "exception": false,
     "start_time": "2022-09-09T10:53:20.387314",
     "status": "completed"
    },
    "tags": []
   },
   "source": [
    "## Process all columns"
   ]
  },
  {
   "cell_type": "code",
   "execution_count": 10,
   "id": "ce96eec2",
   "metadata": {
    "execution": {
     "iopub.execute_input": "2022-09-09T10:53:20.434283Z",
     "iopub.status.busy": "2022-09-09T10:53:20.433568Z",
     "iopub.status.idle": "2022-09-09T10:53:20.439805Z",
     "shell.execute_reply": "2022-09-09T10:53:20.438915Z"
    },
    "papermill": {
     "duration": 0.024951,
     "end_time": "2022-09-09T10:53:20.441922",
     "exception": false,
     "start_time": "2022-09-09T10:53:20.416971",
     "status": "completed"
    },
    "tags": []
   },
   "outputs": [],
   "source": [
    "# except for crew\n",
    "def process_dict(obj):\n",
    "    lst = []\n",
    "    for i in json.loads(obj):\n",
    "        lst.append(i['name'])\n",
    "    return lst\n",
    "    \n",
    "# for crew\n",
    "def process_crew(obj):\n",
    "    lst = []\n",
    "    for i in json.loads(obj):\n",
    "        if i['job'] == 'Director':\n",
    "            lst.append(i['name'])\n",
    "            break\n",
    "    return lst\n"
   ]
  },
  {
   "cell_type": "code",
   "execution_count": 11,
   "id": "819a90fe",
   "metadata": {
    "execution": {
     "iopub.execute_input": "2022-09-09T10:53:20.473962Z",
     "iopub.status.busy": "2022-09-09T10:53:20.473017Z",
     "iopub.status.idle": "2022-09-09T10:53:21.001831Z",
     "shell.execute_reply": "2022-09-09T10:53:21.000550Z"
    },
    "papermill": {
     "duration": 0.547833,
     "end_time": "2022-09-09T10:53:21.004682",
     "exception": false,
     "start_time": "2022-09-09T10:53:20.456849",
     "status": "completed"
    },
    "tags": []
   },
   "outputs": [
    {
     "name": "stderr",
     "output_type": "stream",
     "text": [
      "/opt/conda/lib/python3.7/site-packages/ipykernel_launcher.py:1: SettingWithCopyWarning: \n",
      "A value is trying to be set on a copy of a slice from a DataFrame.\n",
      "Try using .loc[row_indexer,col_indexer] = value instead\n",
      "\n",
      "See the caveats in the documentation: https://pandas.pydata.org/pandas-docs/stable/user_guide/indexing.html#returning-a-view-versus-a-copy\n",
      "  \"\"\"Entry point for launching an IPython kernel.\n",
      "/opt/conda/lib/python3.7/site-packages/ipykernel_launcher.py:2: SettingWithCopyWarning: \n",
      "A value is trying to be set on a copy of a slice from a DataFrame.\n",
      "Try using .loc[row_indexer,col_indexer] = value instead\n",
      "\n",
      "See the caveats in the documentation: https://pandas.pydata.org/pandas-docs/stable/user_guide/indexing.html#returning-a-view-versus-a-copy\n",
      "  \n",
      "/opt/conda/lib/python3.7/site-packages/ipykernel_launcher.py:3: SettingWithCopyWarning: \n",
      "A value is trying to be set on a copy of a slice from a DataFrame.\n",
      "Try using .loc[row_indexer,col_indexer] = value instead\n",
      "\n",
      "See the caveats in the documentation: https://pandas.pydata.org/pandas-docs/stable/user_guide/indexing.html#returning-a-view-versus-a-copy\n",
      "  This is separate from the ipykernel package so we can avoid doing imports until\n",
      "/opt/conda/lib/python3.7/site-packages/ipykernel_launcher.py:4: SettingWithCopyWarning: \n",
      "A value is trying to be set on a copy of a slice from a DataFrame.\n",
      "Try using .loc[row_indexer,col_indexer] = value instead\n",
      "\n",
      "See the caveats in the documentation: https://pandas.pydata.org/pandas-docs/stable/user_guide/indexing.html#returning-a-view-versus-a-copy\n",
      "  after removing the cwd from sys.path.\n"
     ]
    }
   ],
   "source": [
    "collab_df['genres'] = collab_df['genres'].apply(process_dict)\n",
    "collab_df['keywords'] = collab_df['keywords'].apply(process_dict)\n",
    "collab_df['cast'] = collab_df['cast'].apply(process_dict)\n",
    "collab_df['crew'] = collab_df['crew'].apply(process_crew)"
   ]
  },
  {
   "cell_type": "code",
   "execution_count": 12,
   "id": "29151aaf",
   "metadata": {
    "execution": {
     "iopub.execute_input": "2022-09-09T10:53:21.038075Z",
     "iopub.status.busy": "2022-09-09T10:53:21.036955Z",
     "iopub.status.idle": "2022-09-09T10:53:21.056810Z",
     "shell.execute_reply": "2022-09-09T10:53:21.055661Z"
    },
    "papermill": {
     "duration": 0.038869,
     "end_time": "2022-09-09T10:53:21.059084",
     "exception": false,
     "start_time": "2022-09-09T10:53:21.020215",
     "status": "completed"
    },
    "tags": []
   },
   "outputs": [
    {
     "data": {
      "text/html": [
       "<div>\n",
       "<style scoped>\n",
       "    .dataframe tbody tr th:only-of-type {\n",
       "        vertical-align: middle;\n",
       "    }\n",
       "\n",
       "    .dataframe tbody tr th {\n",
       "        vertical-align: top;\n",
       "    }\n",
       "\n",
       "    .dataframe thead th {\n",
       "        text-align: right;\n",
       "    }\n",
       "</style>\n",
       "<table border=\"1\" class=\"dataframe\">\n",
       "  <thead>\n",
       "    <tr style=\"text-align: right;\">\n",
       "      <th></th>\n",
       "      <th>id</th>\n",
       "      <th>original_title</th>\n",
       "      <th>overview</th>\n",
       "      <th>genres</th>\n",
       "      <th>keywords</th>\n",
       "      <th>cast</th>\n",
       "      <th>crew</th>\n",
       "    </tr>\n",
       "  </thead>\n",
       "  <tbody>\n",
       "    <tr>\n",
       "      <th>0</th>\n",
       "      <td>19995</td>\n",
       "      <td>Avatar</td>\n",
       "      <td>In the 22nd century, a paraplegic Marine is di...</td>\n",
       "      <td>[Action, Adventure, Fantasy, Science Fiction]</td>\n",
       "      <td>[culture clash, future, space war, space colon...</td>\n",
       "      <td>[Sam Worthington, Zoe Saldana, Sigourney Weave...</td>\n",
       "      <td>[James Cameron]</td>\n",
       "    </tr>\n",
       "    <tr>\n",
       "      <th>1</th>\n",
       "      <td>285</td>\n",
       "      <td>Pirates of the Caribbean: At World's End</td>\n",
       "      <td>Captain Barbossa, long believed to be dead, ha...</td>\n",
       "      <td>[Adventure, Fantasy, Action]</td>\n",
       "      <td>[ocean, drug abuse, exotic island, east india ...</td>\n",
       "      <td>[Johnny Depp, Orlando Bloom, Keira Knightley, ...</td>\n",
       "      <td>[Gore Verbinski]</td>\n",
       "    </tr>\n",
       "    <tr>\n",
       "      <th>2</th>\n",
       "      <td>206647</td>\n",
       "      <td>Spectre</td>\n",
       "      <td>A cryptic message from Bond’s past sends him o...</td>\n",
       "      <td>[Action, Adventure, Crime]</td>\n",
       "      <td>[spy, based on novel, secret agent, sequel, mi...</td>\n",
       "      <td>[Daniel Craig, Christoph Waltz, Léa Seydoux, R...</td>\n",
       "      <td>[Sam Mendes]</td>\n",
       "    </tr>\n",
       "  </tbody>\n",
       "</table>\n",
       "</div>"
      ],
      "text/plain": [
       "       id                            original_title  \\\n",
       "0   19995                                    Avatar   \n",
       "1     285  Pirates of the Caribbean: At World's End   \n",
       "2  206647                                   Spectre   \n",
       "\n",
       "                                            overview  \\\n",
       "0  In the 22nd century, a paraplegic Marine is di...   \n",
       "1  Captain Barbossa, long believed to be dead, ha...   \n",
       "2  A cryptic message from Bond’s past sends him o...   \n",
       "\n",
       "                                          genres  \\\n",
       "0  [Action, Adventure, Fantasy, Science Fiction]   \n",
       "1                   [Adventure, Fantasy, Action]   \n",
       "2                     [Action, Adventure, Crime]   \n",
       "\n",
       "                                            keywords  \\\n",
       "0  [culture clash, future, space war, space colon...   \n",
       "1  [ocean, drug abuse, exotic island, east india ...   \n",
       "2  [spy, based on novel, secret agent, sequel, mi...   \n",
       "\n",
       "                                                cast              crew  \n",
       "0  [Sam Worthington, Zoe Saldana, Sigourney Weave...   [James Cameron]  \n",
       "1  [Johnny Depp, Orlando Bloom, Keira Knightley, ...  [Gore Verbinski]  \n",
       "2  [Daniel Craig, Christoph Waltz, Léa Seydoux, R...      [Sam Mendes]  "
      ]
     },
     "execution_count": 12,
     "metadata": {},
     "output_type": "execute_result"
    }
   ],
   "source": [
    "collab_df.head(3)"
   ]
  },
  {
   "cell_type": "markdown",
   "id": "be8fdd17",
   "metadata": {
    "papermill": {
     "duration": 0.015286,
     "end_time": "2022-09-09T10:53:21.090004",
     "exception": false,
     "start_time": "2022-09-09T10:53:21.074718",
     "status": "completed"
    },
    "tags": []
   },
   "source": [
    "## Drop col \n",
    "Need to drop a column as there are 3 NaNs in overview column."
   ]
  },
  {
   "cell_type": "code",
   "execution_count": 13,
   "id": "388909df",
   "metadata": {
    "execution": {
     "iopub.execute_input": "2022-09-09T10:53:21.124020Z",
     "iopub.status.busy": "2022-09-09T10:53:21.122826Z",
     "iopub.status.idle": "2022-09-09T10:53:21.135161Z",
     "shell.execute_reply": "2022-09-09T10:53:21.133908Z"
    },
    "papermill": {
     "duration": 0.032236,
     "end_time": "2022-09-09T10:53:21.137951",
     "exception": false,
     "start_time": "2022-09-09T10:53:21.105715",
     "status": "completed"
    },
    "tags": []
   },
   "outputs": [
    {
     "data": {
      "text/plain": [
       "id                0\n",
       "original_title    0\n",
       "overview          3\n",
       "genres            0\n",
       "keywords          0\n",
       "cast              0\n",
       "crew              0\n",
       "dtype: int64"
      ]
     },
     "execution_count": 13,
     "metadata": {},
     "output_type": "execute_result"
    }
   ],
   "source": [
    "collab_df.isnull().sum()"
   ]
  },
  {
   "cell_type": "code",
   "execution_count": 14,
   "id": "db5c9753",
   "metadata": {
    "execution": {
     "iopub.execute_input": "2022-09-09T10:53:21.172671Z",
     "iopub.status.busy": "2022-09-09T10:53:21.171543Z",
     "iopub.status.idle": "2022-09-09T10:53:21.189963Z",
     "shell.execute_reply": "2022-09-09T10:53:21.188950Z"
    },
    "papermill": {
     "duration": 0.038168,
     "end_time": "2022-09-09T10:53:21.192450",
     "exception": false,
     "start_time": "2022-09-09T10:53:21.154282",
     "status": "completed"
    },
    "tags": []
   },
   "outputs": [
    {
     "data": {
      "text/html": [
       "<div>\n",
       "<style scoped>\n",
       "    .dataframe tbody tr th:only-of-type {\n",
       "        vertical-align: middle;\n",
       "    }\n",
       "\n",
       "    .dataframe tbody tr th {\n",
       "        vertical-align: top;\n",
       "    }\n",
       "\n",
       "    .dataframe thead th {\n",
       "        text-align: right;\n",
       "    }\n",
       "</style>\n",
       "<table border=\"1\" class=\"dataframe\">\n",
       "  <thead>\n",
       "    <tr style=\"text-align: right;\">\n",
       "      <th></th>\n",
       "      <th>id</th>\n",
       "      <th>original_title</th>\n",
       "      <th>overview</th>\n",
       "      <th>genres</th>\n",
       "      <th>keywords</th>\n",
       "      <th>cast</th>\n",
       "      <th>crew</th>\n",
       "    </tr>\n",
       "  </thead>\n",
       "  <tbody>\n",
       "    <tr>\n",
       "      <th>2656</th>\n",
       "      <td>370980</td>\n",
       "      <td>Chiamatemi Francesco - Il Papa della gente</td>\n",
       "      <td>NaN</td>\n",
       "      <td>[Drama]</td>\n",
       "      <td>[pope, biography]</td>\n",
       "      <td>[Rodrigo de la Serna, Sergio Hernández, Àlex B...</td>\n",
       "      <td>[Daniele Luchetti]</td>\n",
       "    </tr>\n",
       "    <tr>\n",
       "      <th>4140</th>\n",
       "      <td>459488</td>\n",
       "      <td>To Be Frank, Sinatra at 100</td>\n",
       "      <td>NaN</td>\n",
       "      <td>[Documentary]</td>\n",
       "      <td>[music, actors, legendary perfomer, classic ho...</td>\n",
       "      <td>[Tony Oppedisano]</td>\n",
       "      <td>[Simon Napier-Bell]</td>\n",
       "    </tr>\n",
       "    <tr>\n",
       "      <th>4431</th>\n",
       "      <td>292539</td>\n",
       "      <td>Food Chains</td>\n",
       "      <td>NaN</td>\n",
       "      <td>[Documentary]</td>\n",
       "      <td>[]</td>\n",
       "      <td>[]</td>\n",
       "      <td>[Sanjay Rawal]</td>\n",
       "    </tr>\n",
       "  </tbody>\n",
       "</table>\n",
       "</div>"
      ],
      "text/plain": [
       "          id                              original_title overview  \\\n",
       "2656  370980  Chiamatemi Francesco - Il Papa della gente      NaN   \n",
       "4140  459488                 To Be Frank, Sinatra at 100      NaN   \n",
       "4431  292539                                 Food Chains      NaN   \n",
       "\n",
       "             genres                                           keywords  \\\n",
       "2656        [Drama]                                  [pope, biography]   \n",
       "4140  [Documentary]  [music, actors, legendary perfomer, classic ho...   \n",
       "4431  [Documentary]                                                 []   \n",
       "\n",
       "                                                   cast                 crew  \n",
       "2656  [Rodrigo de la Serna, Sergio Hernández, Àlex B...   [Daniele Luchetti]  \n",
       "4140                                  [Tony Oppedisano]  [Simon Napier-Bell]  \n",
       "4431                                                 []       [Sanjay Rawal]  "
      ]
     },
     "execution_count": 14,
     "metadata": {},
     "output_type": "execute_result"
    }
   ],
   "source": [
    "# what are those columns\n",
    "collab_df[collab_df['overview'].isnull()]"
   ]
  },
  {
   "cell_type": "code",
   "execution_count": 15,
   "id": "932e8df0",
   "metadata": {
    "execution": {
     "iopub.execute_input": "2022-09-09T10:53:21.226681Z",
     "iopub.status.busy": "2022-09-09T10:53:21.226126Z",
     "iopub.status.idle": "2022-09-09T10:53:21.253440Z",
     "shell.execute_reply": "2022-09-09T10:53:21.252141Z"
    },
    "papermill": {
     "duration": 0.047706,
     "end_time": "2022-09-09T10:53:21.256361",
     "exception": false,
     "start_time": "2022-09-09T10:53:21.208655",
     "status": "completed"
    },
    "tags": []
   },
   "outputs": [
    {
     "name": "stderr",
     "output_type": "stream",
     "text": [
      "/opt/conda/lib/python3.7/site-packages/pandas/util/_decorators.py:311: SettingWithCopyWarning: \n",
      "A value is trying to be set on a copy of a slice from a DataFrame\n",
      "\n",
      "See the caveats in the documentation: https://pandas.pydata.org/pandas-docs/stable/user_guide/indexing.html#returning-a-view-versus-a-copy\n",
      "  return func(*args, **kwargs)\n"
     ]
    },
    {
     "data": {
      "text/html": [
       "<div>\n",
       "<style scoped>\n",
       "    .dataframe tbody tr th:only-of-type {\n",
       "        vertical-align: middle;\n",
       "    }\n",
       "\n",
       "    .dataframe tbody tr th {\n",
       "        vertical-align: top;\n",
       "    }\n",
       "\n",
       "    .dataframe thead th {\n",
       "        text-align: right;\n",
       "    }\n",
       "</style>\n",
       "<table border=\"1\" class=\"dataframe\">\n",
       "  <thead>\n",
       "    <tr style=\"text-align: right;\">\n",
       "      <th></th>\n",
       "      <th>id</th>\n",
       "      <th>original_title</th>\n",
       "      <th>overview</th>\n",
       "      <th>genres</th>\n",
       "      <th>keywords</th>\n",
       "      <th>cast</th>\n",
       "      <th>crew</th>\n",
       "    </tr>\n",
       "  </thead>\n",
       "  <tbody>\n",
       "    <tr>\n",
       "      <th>0</th>\n",
       "      <td>19995</td>\n",
       "      <td>Avatar</td>\n",
       "      <td>In the 22nd century, a paraplegic Marine is di...</td>\n",
       "      <td>[Action, Adventure, Fantasy, Science Fiction]</td>\n",
       "      <td>[culture clash, future, space war, space colon...</td>\n",
       "      <td>[Sam Worthington, Zoe Saldana, Sigourney Weave...</td>\n",
       "      <td>[James Cameron]</td>\n",
       "    </tr>\n",
       "    <tr>\n",
       "      <th>1</th>\n",
       "      <td>285</td>\n",
       "      <td>Pirates of the Caribbean: At World's End</td>\n",
       "      <td>Captain Barbossa, long believed to be dead, ha...</td>\n",
       "      <td>[Adventure, Fantasy, Action]</td>\n",
       "      <td>[ocean, drug abuse, exotic island, east india ...</td>\n",
       "      <td>[Johnny Depp, Orlando Bloom, Keira Knightley, ...</td>\n",
       "      <td>[Gore Verbinski]</td>\n",
       "    </tr>\n",
       "    <tr>\n",
       "      <th>2</th>\n",
       "      <td>206647</td>\n",
       "      <td>Spectre</td>\n",
       "      <td>A cryptic message from Bond’s past sends him o...</td>\n",
       "      <td>[Action, Adventure, Crime]</td>\n",
       "      <td>[spy, based on novel, secret agent, sequel, mi...</td>\n",
       "      <td>[Daniel Craig, Christoph Waltz, Léa Seydoux, R...</td>\n",
       "      <td>[Sam Mendes]</td>\n",
       "    </tr>\n",
       "  </tbody>\n",
       "</table>\n",
       "</div>"
      ],
      "text/plain": [
       "       id                            original_title  \\\n",
       "0   19995                                    Avatar   \n",
       "1     285  Pirates of the Caribbean: At World's End   \n",
       "2  206647                                   Spectre   \n",
       "\n",
       "                                            overview  \\\n",
       "0  In the 22nd century, a paraplegic Marine is di...   \n",
       "1  Captain Barbossa, long believed to be dead, ha...   \n",
       "2  A cryptic message from Bond’s past sends him o...   \n",
       "\n",
       "                                          genres  \\\n",
       "0  [Action, Adventure, Fantasy, Science Fiction]   \n",
       "1                   [Adventure, Fantasy, Action]   \n",
       "2                     [Action, Adventure, Crime]   \n",
       "\n",
       "                                            keywords  \\\n",
       "0  [culture clash, future, space war, space colon...   \n",
       "1  [ocean, drug abuse, exotic island, east india ...   \n",
       "2  [spy, based on novel, secret agent, sequel, mi...   \n",
       "\n",
       "                                                cast              crew  \n",
       "0  [Sam Worthington, Zoe Saldana, Sigourney Weave...   [James Cameron]  \n",
       "1  [Johnny Depp, Orlando Bloom, Keira Knightley, ...  [Gore Verbinski]  \n",
       "2  [Daniel Craig, Christoph Waltz, Léa Seydoux, R...      [Sam Mendes]  "
      ]
     },
     "execution_count": 15,
     "metadata": {},
     "output_type": "execute_result"
    }
   ],
   "source": [
    "# drop those cols\n",
    "collab_df.dropna(inplace=True)\n",
    "collab_df.head(3)"
   ]
  },
  {
   "cell_type": "code",
   "execution_count": 16,
   "id": "c5d49497",
   "metadata": {
    "execution": {
     "iopub.execute_input": "2022-09-09T10:53:21.290856Z",
     "iopub.status.busy": "2022-09-09T10:53:21.290486Z",
     "iopub.status.idle": "2022-09-09T10:53:21.330530Z",
     "shell.execute_reply": "2022-09-09T10:53:21.329332Z"
    },
    "papermill": {
     "duration": 0.060529,
     "end_time": "2022-09-09T10:53:21.333380",
     "exception": false,
     "start_time": "2022-09-09T10:53:21.272851",
     "status": "completed"
    },
    "tags": []
   },
   "outputs": [
    {
     "name": "stderr",
     "output_type": "stream",
     "text": [
      "/opt/conda/lib/python3.7/site-packages/ipykernel_launcher.py:2: SettingWithCopyWarning: \n",
      "A value is trying to be set on a copy of a slice from a DataFrame.\n",
      "Try using .loc[row_indexer,col_indexer] = value instead\n",
      "\n",
      "See the caveats in the documentation: https://pandas.pydata.org/pandas-docs/stable/user_guide/indexing.html#returning-a-view-versus-a-copy\n",
      "  \n"
     ]
    }
   ],
   "source": [
    "# convert overview column to list\n",
    "collab_df['overview'] = collab_df['overview'].apply(lambda x: x.split())"
   ]
  },
  {
   "cell_type": "code",
   "execution_count": 17,
   "id": "7e6ed50e",
   "metadata": {
    "execution": {
     "iopub.execute_input": "2022-09-09T10:53:21.368549Z",
     "iopub.status.busy": "2022-09-09T10:53:21.368183Z",
     "iopub.status.idle": "2022-09-09T10:53:21.387722Z",
     "shell.execute_reply": "2022-09-09T10:53:21.386901Z"
    },
    "papermill": {
     "duration": 0.039165,
     "end_time": "2022-09-09T10:53:21.389738",
     "exception": false,
     "start_time": "2022-09-09T10:53:21.350573",
     "status": "completed"
    },
    "tags": []
   },
   "outputs": [
    {
     "data": {
      "text/html": [
       "<div>\n",
       "<style scoped>\n",
       "    .dataframe tbody tr th:only-of-type {\n",
       "        vertical-align: middle;\n",
       "    }\n",
       "\n",
       "    .dataframe tbody tr th {\n",
       "        vertical-align: top;\n",
       "    }\n",
       "\n",
       "    .dataframe thead th {\n",
       "        text-align: right;\n",
       "    }\n",
       "</style>\n",
       "<table border=\"1\" class=\"dataframe\">\n",
       "  <thead>\n",
       "    <tr style=\"text-align: right;\">\n",
       "      <th></th>\n",
       "      <th>id</th>\n",
       "      <th>original_title</th>\n",
       "      <th>overview</th>\n",
       "      <th>genres</th>\n",
       "      <th>keywords</th>\n",
       "      <th>cast</th>\n",
       "      <th>crew</th>\n",
       "    </tr>\n",
       "  </thead>\n",
       "  <tbody>\n",
       "    <tr>\n",
       "      <th>0</th>\n",
       "      <td>19995</td>\n",
       "      <td>Avatar</td>\n",
       "      <td>[In, the, 22nd, century,, a, paraplegic, Marin...</td>\n",
       "      <td>[Action, Adventure, Fantasy, Science Fiction]</td>\n",
       "      <td>[culture clash, future, space war, space colon...</td>\n",
       "      <td>[Sam Worthington, Zoe Saldana, Sigourney Weave...</td>\n",
       "      <td>[James Cameron]</td>\n",
       "    </tr>\n",
       "    <tr>\n",
       "      <th>1</th>\n",
       "      <td>285</td>\n",
       "      <td>Pirates of the Caribbean: At World's End</td>\n",
       "      <td>[Captain, Barbossa,, long, believed, to, be, d...</td>\n",
       "      <td>[Adventure, Fantasy, Action]</td>\n",
       "      <td>[ocean, drug abuse, exotic island, east india ...</td>\n",
       "      <td>[Johnny Depp, Orlando Bloom, Keira Knightley, ...</td>\n",
       "      <td>[Gore Verbinski]</td>\n",
       "    </tr>\n",
       "    <tr>\n",
       "      <th>2</th>\n",
       "      <td>206647</td>\n",
       "      <td>Spectre</td>\n",
       "      <td>[A, cryptic, message, from, Bond’s, past, send...</td>\n",
       "      <td>[Action, Adventure, Crime]</td>\n",
       "      <td>[spy, based on novel, secret agent, sequel, mi...</td>\n",
       "      <td>[Daniel Craig, Christoph Waltz, Léa Seydoux, R...</td>\n",
       "      <td>[Sam Mendes]</td>\n",
       "    </tr>\n",
       "  </tbody>\n",
       "</table>\n",
       "</div>"
      ],
      "text/plain": [
       "       id                            original_title  \\\n",
       "0   19995                                    Avatar   \n",
       "1     285  Pirates of the Caribbean: At World's End   \n",
       "2  206647                                   Spectre   \n",
       "\n",
       "                                            overview  \\\n",
       "0  [In, the, 22nd, century,, a, paraplegic, Marin...   \n",
       "1  [Captain, Barbossa,, long, believed, to, be, d...   \n",
       "2  [A, cryptic, message, from, Bond’s, past, send...   \n",
       "\n",
       "                                          genres  \\\n",
       "0  [Action, Adventure, Fantasy, Science Fiction]   \n",
       "1                   [Adventure, Fantasy, Action]   \n",
       "2                     [Action, Adventure, Crime]   \n",
       "\n",
       "                                            keywords  \\\n",
       "0  [culture clash, future, space war, space colon...   \n",
       "1  [ocean, drug abuse, exotic island, east india ...   \n",
       "2  [spy, based on novel, secret agent, sequel, mi...   \n",
       "\n",
       "                                                cast              crew  \n",
       "0  [Sam Worthington, Zoe Saldana, Sigourney Weave...   [James Cameron]  \n",
       "1  [Johnny Depp, Orlando Bloom, Keira Knightley, ...  [Gore Verbinski]  \n",
       "2  [Daniel Craig, Christoph Waltz, Léa Seydoux, R...      [Sam Mendes]  "
      ]
     },
     "execution_count": 17,
     "metadata": {},
     "output_type": "execute_result"
    }
   ],
   "source": [
    "collab_df.head(3)"
   ]
  },
  {
   "cell_type": "markdown",
   "id": "bce3c621",
   "metadata": {
    "papermill": {
     "duration": 0.016025,
     "end_time": "2022-09-09T10:53:21.422356",
     "exception": false,
     "start_time": "2022-09-09T10:53:21.406331",
     "status": "completed"
    },
    "tags": []
   },
   "source": [
    "# Final steps\n",
    "\n",
    "- Remove spaces on cast and crew names\n",
    "- Convert to list\n",
    "- lower case\n",
    "- stopwords"
   ]
  },
  {
   "cell_type": "markdown",
   "id": "d04fdc0a",
   "metadata": {
    "papermill": {
     "duration": 0.016167,
     "end_time": "2022-09-09T10:53:21.455467",
     "exception": false,
     "start_time": "2022-09-09T10:53:21.439300",
     "status": "completed"
    },
    "tags": []
   },
   "source": [
    "## Remove Spaces"
   ]
  },
  {
   "cell_type": "code",
   "execution_count": 18,
   "id": "dcf8de06",
   "metadata": {
    "execution": {
     "iopub.execute_input": "2022-09-09T10:53:21.490157Z",
     "iopub.status.busy": "2022-09-09T10:53:21.489458Z",
     "iopub.status.idle": "2022-09-09T10:53:21.495874Z",
     "shell.execute_reply": "2022-09-09T10:53:21.495015Z"
    },
    "papermill": {
     "duration": 0.025958,
     "end_time": "2022-09-09T10:53:21.497804",
     "exception": false,
     "start_time": "2022-09-09T10:53:21.471846",
     "status": "completed"
    },
    "tags": []
   },
   "outputs": [
    {
     "data": {
      "text/plain": [
       "['Sam Worthington', 'Zoe Saldana', 'Sigourney Weaver']"
      ]
     },
     "execution_count": 18,
     "metadata": {},
     "output_type": "execute_result"
    }
   ],
   "source": [
    "# There are space like so - we need to remove them to make it unique for all fields\n",
    "collab_df['cast'][0][0:3]"
   ]
  },
  {
   "cell_type": "markdown",
   "id": "aa6ffdf7",
   "metadata": {
    "papermill": {
     "duration": 0.016034,
     "end_time": "2022-09-09T10:53:21.530052",
     "exception": false,
     "start_time": "2022-09-09T10:53:21.514018",
     "status": "completed"
    },
    "tags": []
   },
   "source": [
    "### Convert to list"
   ]
  },
  {
   "cell_type": "code",
   "execution_count": 19,
   "id": "a86d0e4e",
   "metadata": {
    "execution": {
     "iopub.execute_input": "2022-09-09T10:53:21.564771Z",
     "iopub.status.busy": "2022-09-09T10:53:21.564053Z",
     "iopub.status.idle": "2022-09-09T10:53:21.830807Z",
     "shell.execute_reply": "2022-09-09T10:53:21.829651Z"
    },
    "papermill": {
     "duration": 0.287087,
     "end_time": "2022-09-09T10:53:21.833418",
     "exception": false,
     "start_time": "2022-09-09T10:53:21.546331",
     "status": "completed"
    },
    "tags": []
   },
   "outputs": [
    {
     "name": "stderr",
     "output_type": "stream",
     "text": [
      "/opt/conda/lib/python3.7/site-packages/ipykernel_launcher.py:1: SettingWithCopyWarning: \n",
      "A value is trying to be set on a copy of a slice from a DataFrame.\n",
      "Try using .loc[row_indexer,col_indexer] = value instead\n",
      "\n",
      "See the caveats in the documentation: https://pandas.pydata.org/pandas-docs/stable/user_guide/indexing.html#returning-a-view-versus-a-copy\n",
      "  \"\"\"Entry point for launching an IPython kernel.\n",
      "/opt/conda/lib/python3.7/site-packages/ipykernel_launcher.py:2: SettingWithCopyWarning: \n",
      "A value is trying to be set on a copy of a slice from a DataFrame.\n",
      "Try using .loc[row_indexer,col_indexer] = value instead\n",
      "\n",
      "See the caveats in the documentation: https://pandas.pydata.org/pandas-docs/stable/user_guide/indexing.html#returning-a-view-versus-a-copy\n",
      "  \n",
      "/opt/conda/lib/python3.7/site-packages/ipykernel_launcher.py:3: SettingWithCopyWarning: \n",
      "A value is trying to be set on a copy of a slice from a DataFrame.\n",
      "Try using .loc[row_indexer,col_indexer] = value instead\n",
      "\n",
      "See the caveats in the documentation: https://pandas.pydata.org/pandas-docs/stable/user_guide/indexing.html#returning-a-view-versus-a-copy\n",
      "  This is separate from the ipykernel package so we can avoid doing imports until\n",
      "/opt/conda/lib/python3.7/site-packages/ipykernel_launcher.py:4: SettingWithCopyWarning: \n",
      "A value is trying to be set on a copy of a slice from a DataFrame.\n",
      "Try using .loc[row_indexer,col_indexer] = value instead\n",
      "\n",
      "See the caveats in the documentation: https://pandas.pydata.org/pandas-docs/stable/user_guide/indexing.html#returning-a-view-versus-a-copy\n",
      "  after removing the cwd from sys.path.\n",
      "/opt/conda/lib/python3.7/site-packages/ipykernel_launcher.py:5: SettingWithCopyWarning: \n",
      "A value is trying to be set on a copy of a slice from a DataFrame.\n",
      "Try using .loc[row_indexer,col_indexer] = value instead\n",
      "\n",
      "See the caveats in the documentation: https://pandas.pydata.org/pandas-docs/stable/user_guide/indexing.html#returning-a-view-versus-a-copy\n",
      "  \"\"\"\n"
     ]
    }
   ],
   "source": [
    "collab_df['overview'] = collab_df['overview'].apply(lambda x: [a.replace(\" \", \"\") for a in x])\n",
    "collab_df['genres'] = collab_df['genres'].apply(lambda x: [a.replace(\" \", \"\") for a in x])\n",
    "collab_df['keywords'] = collab_df['keywords'].apply(lambda x: [a.replace(\" \", \"\") for a in x])\n",
    "collab_df['cast'] = collab_df['cast'].apply(lambda x: [a.replace(\" \", \"\") for a in x])\n",
    "collab_df['crew'] = collab_df['crew'].apply(lambda x: [a.replace(\" \", \"\") for a in x])"
   ]
  },
  {
   "cell_type": "code",
   "execution_count": 20,
   "id": "0b460128",
   "metadata": {
    "execution": {
     "iopub.execute_input": "2022-09-09T10:53:21.869199Z",
     "iopub.status.busy": "2022-09-09T10:53:21.868098Z",
     "iopub.status.idle": "2022-09-09T10:53:21.888596Z",
     "shell.execute_reply": "2022-09-09T10:53:21.887399Z"
    },
    "papermill": {
     "duration": 0.040739,
     "end_time": "2022-09-09T10:53:21.891071",
     "exception": false,
     "start_time": "2022-09-09T10:53:21.850332",
     "status": "completed"
    },
    "tags": []
   },
   "outputs": [
    {
     "data": {
      "text/html": [
       "<div>\n",
       "<style scoped>\n",
       "    .dataframe tbody tr th:only-of-type {\n",
       "        vertical-align: middle;\n",
       "    }\n",
       "\n",
       "    .dataframe tbody tr th {\n",
       "        vertical-align: top;\n",
       "    }\n",
       "\n",
       "    .dataframe thead th {\n",
       "        text-align: right;\n",
       "    }\n",
       "</style>\n",
       "<table border=\"1\" class=\"dataframe\">\n",
       "  <thead>\n",
       "    <tr style=\"text-align: right;\">\n",
       "      <th></th>\n",
       "      <th>id</th>\n",
       "      <th>original_title</th>\n",
       "      <th>overview</th>\n",
       "      <th>genres</th>\n",
       "      <th>keywords</th>\n",
       "      <th>cast</th>\n",
       "      <th>crew</th>\n",
       "    </tr>\n",
       "  </thead>\n",
       "  <tbody>\n",
       "    <tr>\n",
       "      <th>0</th>\n",
       "      <td>19995</td>\n",
       "      <td>Avatar</td>\n",
       "      <td>[In, the, 22nd, century,, a, paraplegic, Marin...</td>\n",
       "      <td>[Action, Adventure, Fantasy, ScienceFiction]</td>\n",
       "      <td>[cultureclash, future, spacewar, spacecolony, ...</td>\n",
       "      <td>[SamWorthington, ZoeSaldana, SigourneyWeaver, ...</td>\n",
       "      <td>[JamesCameron]</td>\n",
       "    </tr>\n",
       "    <tr>\n",
       "      <th>1</th>\n",
       "      <td>285</td>\n",
       "      <td>Pirates of the Caribbean: At World's End</td>\n",
       "      <td>[Captain, Barbossa,, long, believed, to, be, d...</td>\n",
       "      <td>[Adventure, Fantasy, Action]</td>\n",
       "      <td>[ocean, drugabuse, exoticisland, eastindiatrad...</td>\n",
       "      <td>[JohnnyDepp, OrlandoBloom, KeiraKnightley, Ste...</td>\n",
       "      <td>[GoreVerbinski]</td>\n",
       "    </tr>\n",
       "    <tr>\n",
       "      <th>2</th>\n",
       "      <td>206647</td>\n",
       "      <td>Spectre</td>\n",
       "      <td>[A, cryptic, message, from, Bond’s, past, send...</td>\n",
       "      <td>[Action, Adventure, Crime]</td>\n",
       "      <td>[spy, basedonnovel, secretagent, sequel, mi6, ...</td>\n",
       "      <td>[DanielCraig, ChristophWaltz, LéaSeydoux, Ralp...</td>\n",
       "      <td>[SamMendes]</td>\n",
       "    </tr>\n",
       "  </tbody>\n",
       "</table>\n",
       "</div>"
      ],
      "text/plain": [
       "       id                            original_title  \\\n",
       "0   19995                                    Avatar   \n",
       "1     285  Pirates of the Caribbean: At World's End   \n",
       "2  206647                                   Spectre   \n",
       "\n",
       "                                            overview  \\\n",
       "0  [In, the, 22nd, century,, a, paraplegic, Marin...   \n",
       "1  [Captain, Barbossa,, long, believed, to, be, d...   \n",
       "2  [A, cryptic, message, from, Bond’s, past, send...   \n",
       "\n",
       "                                         genres  \\\n",
       "0  [Action, Adventure, Fantasy, ScienceFiction]   \n",
       "1                  [Adventure, Fantasy, Action]   \n",
       "2                    [Action, Adventure, Crime]   \n",
       "\n",
       "                                            keywords  \\\n",
       "0  [cultureclash, future, spacewar, spacecolony, ...   \n",
       "1  [ocean, drugabuse, exoticisland, eastindiatrad...   \n",
       "2  [spy, basedonnovel, secretagent, sequel, mi6, ...   \n",
       "\n",
       "                                                cast             crew  \n",
       "0  [SamWorthington, ZoeSaldana, SigourneyWeaver, ...   [JamesCameron]  \n",
       "1  [JohnnyDepp, OrlandoBloom, KeiraKnightley, Ste...  [GoreVerbinski]  \n",
       "2  [DanielCraig, ChristophWaltz, LéaSeydoux, Ralp...      [SamMendes]  "
      ]
     },
     "execution_count": 20,
     "metadata": {},
     "output_type": "execute_result"
    }
   ],
   "source": [
    "collab_df.head(3)"
   ]
  },
  {
   "cell_type": "markdown",
   "id": "403a314f",
   "metadata": {
    "papermill": {
     "duration": 0.016813,
     "end_time": "2022-09-09T10:53:21.925318",
     "exception": false,
     "start_time": "2022-09-09T10:53:21.908505",
     "status": "completed"
    },
    "tags": []
   },
   "source": [
    "## Combine\n",
    "\n",
    "Convert the words into their root word for overview, genres and keywords\n",
    "Then combine them with crew and cast\n"
   ]
  },
  {
   "cell_type": "code",
   "execution_count": 21,
   "id": "d55d645e",
   "metadata": {
    "execution": {
     "iopub.execute_input": "2022-09-09T10:53:21.960957Z",
     "iopub.status.busy": "2022-09-09T10:53:21.960572Z",
     "iopub.status.idle": "2022-09-09T10:53:21.985986Z",
     "shell.execute_reply": "2022-09-09T10:53:21.984830Z"
    },
    "papermill": {
     "duration": 0.046455,
     "end_time": "2022-09-09T10:53:21.988769",
     "exception": false,
     "start_time": "2022-09-09T10:53:21.942314",
     "status": "completed"
    },
    "tags": []
   },
   "outputs": [
    {
     "name": "stderr",
     "output_type": "stream",
     "text": [
      "/opt/conda/lib/python3.7/site-packages/ipykernel_launcher.py:1: SettingWithCopyWarning: \n",
      "A value is trying to be set on a copy of a slice from a DataFrame.\n",
      "Try using .loc[row_indexer,col_indexer] = value instead\n",
      "\n",
      "See the caveats in the documentation: https://pandas.pydata.org/pandas-docs/stable/user_guide/indexing.html#returning-a-view-versus-a-copy\n",
      "  \"\"\"Entry point for launching an IPython kernel.\n"
     ]
    }
   ],
   "source": [
    "collab_df['combined'] = collab_df['overview'] + collab_df['genres'] + collab_df['keywords']"
   ]
  },
  {
   "cell_type": "markdown",
   "id": "c54a5363",
   "metadata": {
    "papermill": {
     "duration": 0.016717,
     "end_time": "2022-09-09T10:53:22.022714",
     "exception": false,
     "start_time": "2022-09-09T10:53:22.005997",
     "status": "completed"
    },
    "tags": []
   },
   "source": [
    "## Applying Stemming"
   ]
  },
  {
   "cell_type": "code",
   "execution_count": 22,
   "id": "7a8d0ba5",
   "metadata": {
    "execution": {
     "iopub.execute_input": "2022-09-09T10:53:22.058375Z",
     "iopub.status.busy": "2022-09-09T10:53:22.057980Z",
     "iopub.status.idle": "2022-09-09T10:53:29.144598Z",
     "shell.execute_reply": "2022-09-09T10:53:29.141426Z"
    },
    "papermill": {
     "duration": 7.109816,
     "end_time": "2022-09-09T10:53:29.149441",
     "exception": false,
     "start_time": "2022-09-09T10:53:22.039625",
     "status": "completed"
    },
    "tags": []
   },
   "outputs": [
    {
     "name": "stderr",
     "output_type": "stream",
     "text": [
      "/opt/conda/lib/python3.7/site-packages/ipykernel_launcher.py:9: SettingWithCopyWarning: \n",
      "A value is trying to be set on a copy of a slice from a DataFrame.\n",
      "Try using .loc[row_indexer,col_indexer] = value instead\n",
      "\n",
      "See the caveats in the documentation: https://pandas.pydata.org/pandas-docs/stable/user_guide/indexing.html#returning-a-view-versus-a-copy\n",
      "  if __name__ == \"__main__\":\n",
      "/opt/conda/lib/python3.7/site-packages/ipykernel_launcher.py:10: SettingWithCopyWarning: \n",
      "A value is trying to be set on a copy of a slice from a DataFrame.\n",
      "Try using .loc[row_indexer,col_indexer] = value instead\n",
      "\n",
      "See the caveats in the documentation: https://pandas.pydata.org/pandas-docs/stable/user_guide/indexing.html#returning-a-view-versus-a-copy\n",
      "  # Remove the CWD from sys.path while we load stuff.\n"
     ]
    }
   ],
   "source": [
    "ps = PorterStemmer()\n",
    "\n",
    "def stemming(text):\n",
    "    lst = []\n",
    "    for i in text.split():\n",
    "        lst.append(ps.stem(i))\n",
    "    return \" \".join(lst)\n",
    "\n",
    "collab_df['combined'] = collab_df['combined'].apply(lambda x:\" \".join(x))\n",
    "collab_df['combined'] = collab_df['combined'].apply(stemming)\n"
   ]
  },
  {
   "cell_type": "markdown",
   "id": "0ba1b833",
   "metadata": {
    "papermill": {
     "duration": 0.017163,
     "end_time": "2022-09-09T10:53:29.184702",
     "exception": false,
     "start_time": "2022-09-09T10:53:29.167539",
     "status": "completed"
    },
    "tags": []
   },
   "source": [
    "## Convert to Strings"
   ]
  },
  {
   "cell_type": "code",
   "execution_count": 23,
   "id": "2ccffbde",
   "metadata": {
    "execution": {
     "iopub.execute_input": "2022-09-09T10:53:29.222044Z",
     "iopub.status.busy": "2022-09-09T10:53:29.221637Z",
     "iopub.status.idle": "2022-09-09T10:53:29.239319Z",
     "shell.execute_reply": "2022-09-09T10:53:29.238109Z"
    },
    "papermill": {
     "duration": 0.040353,
     "end_time": "2022-09-09T10:53:29.242515",
     "exception": false,
     "start_time": "2022-09-09T10:53:29.202162",
     "status": "completed"
    },
    "tags": []
   },
   "outputs": [
    {
     "name": "stderr",
     "output_type": "stream",
     "text": [
      "/opt/conda/lib/python3.7/site-packages/ipykernel_launcher.py:1: SettingWithCopyWarning: \n",
      "A value is trying to be set on a copy of a slice from a DataFrame.\n",
      "Try using .loc[row_indexer,col_indexer] = value instead\n",
      "\n",
      "See the caveats in the documentation: https://pandas.pydata.org/pandas-docs/stable/user_guide/indexing.html#returning-a-view-versus-a-copy\n",
      "  \"\"\"Entry point for launching an IPython kernel.\n",
      "/opt/conda/lib/python3.7/site-packages/ipykernel_launcher.py:2: SettingWithCopyWarning: \n",
      "A value is trying to be set on a copy of a slice from a DataFrame.\n",
      "Try using .loc[row_indexer,col_indexer] = value instead\n",
      "\n",
      "See the caveats in the documentation: https://pandas.pydata.org/pandas-docs/stable/user_guide/indexing.html#returning-a-view-versus-a-copy\n",
      "  \n"
     ]
    }
   ],
   "source": [
    "collab_df['cast'] = collab_df['cast'].apply(lambda x: \" \".join(x))\n",
    "collab_df['crew'] = collab_df['crew'].apply(lambda x: \" \".join(x))"
   ]
  },
  {
   "cell_type": "code",
   "execution_count": 24,
   "id": "028634a1",
   "metadata": {
    "execution": {
     "iopub.execute_input": "2022-09-09T10:53:29.282448Z",
     "iopub.status.busy": "2022-09-09T10:53:29.281951Z",
     "iopub.status.idle": "2022-09-09T10:53:29.302137Z",
     "shell.execute_reply": "2022-09-09T10:53:29.300881Z"
    },
    "papermill": {
     "duration": 0.042801,
     "end_time": "2022-09-09T10:53:29.304580",
     "exception": false,
     "start_time": "2022-09-09T10:53:29.261779",
     "status": "completed"
    },
    "tags": []
   },
   "outputs": [
    {
     "data": {
      "text/html": [
       "<div>\n",
       "<style scoped>\n",
       "    .dataframe tbody tr th:only-of-type {\n",
       "        vertical-align: middle;\n",
       "    }\n",
       "\n",
       "    .dataframe tbody tr th {\n",
       "        vertical-align: top;\n",
       "    }\n",
       "\n",
       "    .dataframe thead th {\n",
       "        text-align: right;\n",
       "    }\n",
       "</style>\n",
       "<table border=\"1\" class=\"dataframe\">\n",
       "  <thead>\n",
       "    <tr style=\"text-align: right;\">\n",
       "      <th></th>\n",
       "      <th>id</th>\n",
       "      <th>original_title</th>\n",
       "      <th>overview</th>\n",
       "      <th>genres</th>\n",
       "      <th>keywords</th>\n",
       "      <th>cast</th>\n",
       "      <th>crew</th>\n",
       "      <th>combined</th>\n",
       "    </tr>\n",
       "  </thead>\n",
       "  <tbody>\n",
       "    <tr>\n",
       "      <th>0</th>\n",
       "      <td>19995</td>\n",
       "      <td>Avatar</td>\n",
       "      <td>[In, the, 22nd, century,, a, paraplegic, Marin...</td>\n",
       "      <td>[Action, Adventure, Fantasy, ScienceFiction]</td>\n",
       "      <td>[cultureclash, future, spacewar, spacecolony, ...</td>\n",
       "      <td>SamWorthington ZoeSaldana SigourneyWeaver Step...</td>\n",
       "      <td>JamesCameron</td>\n",
       "      <td>in the 22nd century, a parapleg marin is dispa...</td>\n",
       "    </tr>\n",
       "    <tr>\n",
       "      <th>1</th>\n",
       "      <td>285</td>\n",
       "      <td>Pirates of the Caribbean: At World's End</td>\n",
       "      <td>[Captain, Barbossa,, long, believed, to, be, d...</td>\n",
       "      <td>[Adventure, Fantasy, Action]</td>\n",
       "      <td>[ocean, drugabuse, exoticisland, eastindiatrad...</td>\n",
       "      <td>JohnnyDepp OrlandoBloom KeiraKnightley Stellan...</td>\n",
       "      <td>GoreVerbinski</td>\n",
       "      <td>captain barbossa, long believ to be dead, ha c...</td>\n",
       "    </tr>\n",
       "    <tr>\n",
       "      <th>2</th>\n",
       "      <td>206647</td>\n",
       "      <td>Spectre</td>\n",
       "      <td>[A, cryptic, message, from, Bond’s, past, send...</td>\n",
       "      <td>[Action, Adventure, Crime]</td>\n",
       "      <td>[spy, basedonnovel, secretagent, sequel, mi6, ...</td>\n",
       "      <td>DanielCraig ChristophWaltz LéaSeydoux RalphFie...</td>\n",
       "      <td>SamMendes</td>\n",
       "      <td>a cryptic messag from bond’ past send him on a...</td>\n",
       "    </tr>\n",
       "  </tbody>\n",
       "</table>\n",
       "</div>"
      ],
      "text/plain": [
       "       id                            original_title  \\\n",
       "0   19995                                    Avatar   \n",
       "1     285  Pirates of the Caribbean: At World's End   \n",
       "2  206647                                   Spectre   \n",
       "\n",
       "                                            overview  \\\n",
       "0  [In, the, 22nd, century,, a, paraplegic, Marin...   \n",
       "1  [Captain, Barbossa,, long, believed, to, be, d...   \n",
       "2  [A, cryptic, message, from, Bond’s, past, send...   \n",
       "\n",
       "                                         genres  \\\n",
       "0  [Action, Adventure, Fantasy, ScienceFiction]   \n",
       "1                  [Adventure, Fantasy, Action]   \n",
       "2                    [Action, Adventure, Crime]   \n",
       "\n",
       "                                            keywords  \\\n",
       "0  [cultureclash, future, spacewar, spacecolony, ...   \n",
       "1  [ocean, drugabuse, exoticisland, eastindiatrad...   \n",
       "2  [spy, basedonnovel, secretagent, sequel, mi6, ...   \n",
       "\n",
       "                                                cast           crew  \\\n",
       "0  SamWorthington ZoeSaldana SigourneyWeaver Step...   JamesCameron   \n",
       "1  JohnnyDepp OrlandoBloom KeiraKnightley Stellan...  GoreVerbinski   \n",
       "2  DanielCraig ChristophWaltz LéaSeydoux RalphFie...      SamMendes   \n",
       "\n",
       "                                            combined  \n",
       "0  in the 22nd century, a parapleg marin is dispa...  \n",
       "1  captain barbossa, long believ to be dead, ha c...  \n",
       "2  a cryptic messag from bond’ past send him on a...  "
      ]
     },
     "execution_count": 24,
     "metadata": {},
     "output_type": "execute_result"
    }
   ],
   "source": [
    "collab_df.head(3)"
   ]
  },
  {
   "cell_type": "code",
   "execution_count": 25,
   "id": "d010363d",
   "metadata": {
    "execution": {
     "iopub.execute_input": "2022-09-09T10:53:29.342956Z",
     "iopub.status.busy": "2022-09-09T10:53:29.342557Z",
     "iopub.status.idle": "2022-09-09T10:53:29.349857Z",
     "shell.execute_reply": "2022-09-09T10:53:29.348599Z"
    },
    "papermill": {
     "duration": 0.029776,
     "end_time": "2022-09-09T10:53:29.352415",
     "exception": false,
     "start_time": "2022-09-09T10:53:29.322639",
     "status": "completed"
    },
    "tags": []
   },
   "outputs": [
    {
     "data": {
      "text/plain": [
       "'in the 22nd century, a parapleg marin is dispatch to the moon pandora on a uniqu mission, but becom torn between follow order and protect an alien civilization. action adventur fantasi sciencefict cultureclash futur spacewar spacecoloni societi spacetravel futurist romanc space alien tribe alienplanet cgi marin soldier battl loveaffair antiwar powerrel mindandsoul 3d'"
      ]
     },
     "execution_count": 25,
     "metadata": {},
     "output_type": "execute_result"
    }
   ],
   "source": [
    "collab_df['combined'][0]"
   ]
  },
  {
   "cell_type": "markdown",
   "id": "bd4747c2",
   "metadata": {
    "papermill": {
     "duration": 0.017682,
     "end_time": "2022-09-09T10:53:29.388298",
     "exception": false,
     "start_time": "2022-09-09T10:53:29.370616",
     "status": "completed"
    },
    "tags": []
   },
   "source": [
    "## Combine cast, crew with others"
   ]
  },
  {
   "cell_type": "code",
   "execution_count": 26,
   "id": "0e958b3d",
   "metadata": {
    "execution": {
     "iopub.execute_input": "2022-09-09T10:53:29.426290Z",
     "iopub.status.busy": "2022-09-09T10:53:29.425419Z",
     "iopub.status.idle": "2022-09-09T10:53:29.444912Z",
     "shell.execute_reply": "2022-09-09T10:53:29.443970Z"
    },
    "papermill": {
     "duration": 0.041279,
     "end_time": "2022-09-09T10:53:29.447494",
     "exception": false,
     "start_time": "2022-09-09T10:53:29.406215",
     "status": "completed"
    },
    "tags": []
   },
   "outputs": [
    {
     "name": "stderr",
     "output_type": "stream",
     "text": [
      "/opt/conda/lib/python3.7/site-packages/ipykernel_launcher.py:1: SettingWithCopyWarning: \n",
      "A value is trying to be set on a copy of a slice from a DataFrame.\n",
      "Try using .loc[row_indexer,col_indexer] = value instead\n",
      "\n",
      "See the caveats in the documentation: https://pandas.pydata.org/pandas-docs/stable/user_guide/indexing.html#returning-a-view-versus-a-copy\n",
      "  \"\"\"Entry point for launching an IPython kernel.\n"
     ]
    }
   ],
   "source": [
    "collab_df['combined'] =  collab_df['combined'] + ' ' + collab_df['cast'] +' '+ collab_df['crew']"
   ]
  },
  {
   "cell_type": "code",
   "execution_count": 27,
   "id": "6c00813a",
   "metadata": {
    "execution": {
     "iopub.execute_input": "2022-09-09T10:53:29.485966Z",
     "iopub.status.busy": "2022-09-09T10:53:29.485537Z",
     "iopub.status.idle": "2022-09-09T10:53:29.493333Z",
     "shell.execute_reply": "2022-09-09T10:53:29.492072Z"
    },
    "papermill": {
     "duration": 0.029676,
     "end_time": "2022-09-09T10:53:29.495457",
     "exception": false,
     "start_time": "2022-09-09T10:53:29.465781",
     "status": "completed"
    },
    "tags": []
   },
   "outputs": [
    {
     "data": {
      "text/plain": [
       "'SamWorthington ZoeSaldana SigourneyWeaver StephenLang MichelleRodriguez GiovanniRibisi JoelDavidMoore CCHPounder WesStudi LazAlonso DileepRao MattGerald SeanAnthonyMoran JasonWhyte ScottLawrence KellyKilgour JamesPatrickPitt SeanPatrickMurphy PeterDillon KevinDorman KelsonHenderson DavidVanHorn JacobTomuri MichaelBlain-Rozgay JonCurry LukeHawker WoodySchultz PeterMensah SoniaYee JahnelCurfman IlramChoi KylaWarren LisaRoumain DebraWilson ChrisMala TaylorKibby JodieLandau JulieLamm CullenB.Madden JosephBradyMadden FrankieTorres AustinWilson SaraWilson TamicaWashington-Miller LucyBriant NathanMeister GerryBlair MatthewChamberlain PaulYates WrayWilson JamesGaylyn MelvinLenoClarkIII CarvonFutrell BrandonJelkes MicahMoch HanniyahMuhammad ChristopherNolen ChristaOliver AprilMarieThomas BravitaA.Threatt ColinBleasdale MikeBodnar MattClayton NicoleDionne JamieHarrison AllanHenry AnthonyIngruber AshleyJeffery DeanKnowsley JosephMika-Hunt TerryNotary KaiPantano LoganPithyou StuartPollock Raja GarethRuck RhianSheehan T.J.Storm JodieTaylor AliciaVela-Bailey RichardWhiteside NikieZambo JuleneRenee'"
      ]
     },
     "execution_count": 27,
     "metadata": {},
     "output_type": "execute_result"
    }
   ],
   "source": [
    "collab_df['cast'][0]"
   ]
  },
  {
   "cell_type": "code",
   "execution_count": 28,
   "id": "a6355ac5",
   "metadata": {
    "execution": {
     "iopub.execute_input": "2022-09-09T10:53:29.534269Z",
     "iopub.status.busy": "2022-09-09T10:53:29.533826Z",
     "iopub.status.idle": "2022-09-09T10:53:29.541518Z",
     "shell.execute_reply": "2022-09-09T10:53:29.540123Z"
    },
    "papermill": {
     "duration": 0.03021,
     "end_time": "2022-09-09T10:53:29.544041",
     "exception": false,
     "start_time": "2022-09-09T10:53:29.513831",
     "status": "completed"
    },
    "tags": []
   },
   "outputs": [
    {
     "data": {
      "text/plain": [
       "'superman return to discov hi 5-year absenc ha allow lex luthor to walk free, and that those he wa closest too felt abandon and have move on. luthor plot hi ultim reveng that could see million kill and chang the face of the planet forever, as well as rid himself of the man of steel. adventur fantasi action sciencefict savingtheworld dccomic invulner sequel superhero basedoncomicbook kryptonit superpow superhumanstrength lexluthor BrandonRouth KevinSpacey KateBosworth JamesMarsden ParkerPosey FrankLangella SamHuntington EvaMarieSaint MarlonBrando KalPenn TristanLakeLeabu DavidFabrizio IanRoberts VincentStone JackLarson NoelNeill KeeganJoyce JordanaBeatty BryanSinger'"
      ]
     },
     "execution_count": 28,
     "metadata": {},
     "output_type": "execute_result"
    }
   ],
   "source": [
    "collab_df['combined'][10]"
   ]
  },
  {
   "cell_type": "code",
   "execution_count": 29,
   "id": "35e17d60",
   "metadata": {
    "execution": {
     "iopub.execute_input": "2022-09-09T10:53:29.583074Z",
     "iopub.status.busy": "2022-09-09T10:53:29.582608Z",
     "iopub.status.idle": "2022-09-09T10:53:29.600608Z",
     "shell.execute_reply": "2022-09-09T10:53:29.599686Z"
    },
    "papermill": {
     "duration": 0.040576,
     "end_time": "2022-09-09T10:53:29.603101",
     "exception": false,
     "start_time": "2022-09-09T10:53:29.562525",
     "status": "completed"
    },
    "tags": []
   },
   "outputs": [
    {
     "data": {
      "text/html": [
       "<div>\n",
       "<style scoped>\n",
       "    .dataframe tbody tr th:only-of-type {\n",
       "        vertical-align: middle;\n",
       "    }\n",
       "\n",
       "    .dataframe tbody tr th {\n",
       "        vertical-align: top;\n",
       "    }\n",
       "\n",
       "    .dataframe thead th {\n",
       "        text-align: right;\n",
       "    }\n",
       "</style>\n",
       "<table border=\"1\" class=\"dataframe\">\n",
       "  <thead>\n",
       "    <tr style=\"text-align: right;\">\n",
       "      <th></th>\n",
       "      <th>id</th>\n",
       "      <th>original_title</th>\n",
       "      <th>overview</th>\n",
       "      <th>genres</th>\n",
       "      <th>keywords</th>\n",
       "      <th>cast</th>\n",
       "      <th>crew</th>\n",
       "      <th>combined</th>\n",
       "    </tr>\n",
       "  </thead>\n",
       "  <tbody>\n",
       "    <tr>\n",
       "      <th>0</th>\n",
       "      <td>19995</td>\n",
       "      <td>Avatar</td>\n",
       "      <td>[In, the, 22nd, century,, a, paraplegic, Marin...</td>\n",
       "      <td>[Action, Adventure, Fantasy, ScienceFiction]</td>\n",
       "      <td>[cultureclash, future, spacewar, spacecolony, ...</td>\n",
       "      <td>SamWorthington ZoeSaldana SigourneyWeaver Step...</td>\n",
       "      <td>JamesCameron</td>\n",
       "      <td>in the 22nd century, a parapleg marin is dispa...</td>\n",
       "    </tr>\n",
       "    <tr>\n",
       "      <th>1</th>\n",
       "      <td>285</td>\n",
       "      <td>Pirates of the Caribbean: At World's End</td>\n",
       "      <td>[Captain, Barbossa,, long, believed, to, be, d...</td>\n",
       "      <td>[Adventure, Fantasy, Action]</td>\n",
       "      <td>[ocean, drugabuse, exoticisland, eastindiatrad...</td>\n",
       "      <td>JohnnyDepp OrlandoBloom KeiraKnightley Stellan...</td>\n",
       "      <td>GoreVerbinski</td>\n",
       "      <td>captain barbossa, long believ to be dead, ha c...</td>\n",
       "    </tr>\n",
       "    <tr>\n",
       "      <th>2</th>\n",
       "      <td>206647</td>\n",
       "      <td>Spectre</td>\n",
       "      <td>[A, cryptic, message, from, Bond’s, past, send...</td>\n",
       "      <td>[Action, Adventure, Crime]</td>\n",
       "      <td>[spy, basedonnovel, secretagent, sequel, mi6, ...</td>\n",
       "      <td>DanielCraig ChristophWaltz LéaSeydoux RalphFie...</td>\n",
       "      <td>SamMendes</td>\n",
       "      <td>a cryptic messag from bond’ past send him on a...</td>\n",
       "    </tr>\n",
       "  </tbody>\n",
       "</table>\n",
       "</div>"
      ],
      "text/plain": [
       "       id                            original_title  \\\n",
       "0   19995                                    Avatar   \n",
       "1     285  Pirates of the Caribbean: At World's End   \n",
       "2  206647                                   Spectre   \n",
       "\n",
       "                                            overview  \\\n",
       "0  [In, the, 22nd, century,, a, paraplegic, Marin...   \n",
       "1  [Captain, Barbossa,, long, believed, to, be, d...   \n",
       "2  [A, cryptic, message, from, Bond’s, past, send...   \n",
       "\n",
       "                                         genres  \\\n",
       "0  [Action, Adventure, Fantasy, ScienceFiction]   \n",
       "1                  [Adventure, Fantasy, Action]   \n",
       "2                    [Action, Adventure, Crime]   \n",
       "\n",
       "                                            keywords  \\\n",
       "0  [cultureclash, future, spacewar, spacecolony, ...   \n",
       "1  [ocean, drugabuse, exoticisland, eastindiatrad...   \n",
       "2  [spy, basedonnovel, secretagent, sequel, mi6, ...   \n",
       "\n",
       "                                                cast           crew  \\\n",
       "0  SamWorthington ZoeSaldana SigourneyWeaver Step...   JamesCameron   \n",
       "1  JohnnyDepp OrlandoBloom KeiraKnightley Stellan...  GoreVerbinski   \n",
       "2  DanielCraig ChristophWaltz LéaSeydoux RalphFie...      SamMendes   \n",
       "\n",
       "                                            combined  \n",
       "0  in the 22nd century, a parapleg marin is dispa...  \n",
       "1  captain barbossa, long believ to be dead, ha c...  \n",
       "2  a cryptic messag from bond’ past send him on a...  "
      ]
     },
     "execution_count": 29,
     "metadata": {},
     "output_type": "execute_result"
    }
   ],
   "source": [
    "collab_df.head(3)"
   ]
  },
  {
   "cell_type": "markdown",
   "id": "b8e14d57",
   "metadata": {
    "papermill": {
     "duration": 0.018387,
     "end_time": "2022-09-09T10:53:29.640093",
     "exception": false,
     "start_time": "2022-09-09T10:53:29.621706",
     "status": "completed"
    },
    "tags": []
   },
   "source": [
    "# Collaborative Filtering "
   ]
  },
  {
   "cell_type": "code",
   "execution_count": 30,
   "id": "5262a096",
   "metadata": {
    "execution": {
     "iopub.execute_input": "2022-09-09T10:53:29.679572Z",
     "iopub.status.busy": "2022-09-09T10:53:29.679121Z",
     "iopub.status.idle": "2022-09-09T10:53:30.748299Z",
     "shell.execute_reply": "2022-09-09T10:53:30.747001Z"
    },
    "papermill": {
     "duration": 1.092409,
     "end_time": "2022-09-09T10:53:30.751110",
     "exception": false,
     "start_time": "2022-09-09T10:53:29.658701",
     "status": "completed"
    },
    "tags": []
   },
   "outputs": [
    {
     "data": {
      "text/plain": [
       "(4800, 5000)"
      ]
     },
     "execution_count": 30,
     "metadata": {},
     "output_type": "execute_result"
    }
   ],
   "source": [
    "tf = TfidfVectorizer(max_features=5000,analyzer='word',stop_words={'english'})\n",
    "vectors = tf.fit_transform(collab_df['combined']).toarray()\n",
    "vectors.shape"
   ]
  },
  {
   "cell_type": "markdown",
   "id": "b64552cc",
   "metadata": {
    "papermill": {
     "duration": 0.018613,
     "end_time": "2022-09-09T10:53:30.789013",
     "exception": false,
     "start_time": "2022-09-09T10:53:30.770400",
     "status": "completed"
    },
    "tags": []
   },
   "source": [
    "## What are the top features"
   ]
  },
  {
   "cell_type": "code",
   "execution_count": 31,
   "id": "0dc2a081",
   "metadata": {
    "execution": {
     "iopub.execute_input": "2022-09-09T10:53:30.828367Z",
     "iopub.status.busy": "2022-09-09T10:53:30.827591Z",
     "iopub.status.idle": "2022-09-09T10:53:30.839840Z",
     "shell.execute_reply": "2022-09-09T10:53:30.838778Z"
    },
    "papermill": {
     "duration": 0.034368,
     "end_time": "2022-09-09T10:53:30.842139",
     "exception": false,
     "start_time": "2022-09-09T10:53:30.807771",
     "status": "completed"
    },
    "tags": []
   },
   "outputs": [
    {
     "data": {
      "text/plain": [
       "array(['000', '007', '10', '100', '11', '12', '13', '14', '15', '16',\n",
       "       '17', '18', '18th', '19', '1930', '1940', '1950', '1960', '1960s',\n",
       "       '1970', '1970s', '1980', '1990', '19th', '19thcenturi', '20',\n",
       "       '20th', '24', '25', '30', '3d', '40', '50', '60', '70', 'aaron',\n",
       "       'aaroneckhart', 'aarontaylor', 'aasifmandvi', 'abandon', 'abduct',\n",
       "       'abigailbreslin', 'abil', 'abl', 'about', 'abov', 'abus',\n",
       "       'academi', 'accept', 'access', 'accid', 'accident', 'accompani',\n",
       "       'accomplish', 'account', 'accus', 'ace', 'achiev', 'across', 'act',\n",
       "       'action', 'activ', 'activist', 'actor', 'actress', 'actual',\n",
       "       'adam', 'adambrody', 'adamgoldberg', 'adamlefevre', 'adamsandler',\n",
       "       'adamscott', 'adamshankman', 'adapt', 'add', 'addict',\n",
       "       'adewaleakinnuoye', 'adjust', 'admir', 'admit', 'adolesc', 'adopt',\n",
       "       'ador', 'adrianmartinez', 'adrienbrody', 'adult', 'adulteri',\n",
       "       'adulthood', 'advanc', 'adventur', 'adventure', 'advertis',\n",
       "       'advic', 'affair', 'affect', 'afghanistan', 'africa', 'african',\n",
       "       'africanamerican', 'after'], dtype=object)"
      ]
     },
     "execution_count": 31,
     "metadata": {},
     "output_type": "execute_result"
    }
   ],
   "source": [
    "tf.get_feature_names_out()[:100]"
   ]
  },
  {
   "cell_type": "markdown",
   "id": "607b5349",
   "metadata": {
    "papermill": {
     "duration": 0.01845,
     "end_time": "2022-09-09T10:53:30.879634",
     "exception": false,
     "start_time": "2022-09-09T10:53:30.861184",
     "status": "completed"
    },
    "tags": []
   },
   "source": [
    "## Calculating Cosine Similarity"
   ]
  },
  {
   "cell_type": "code",
   "execution_count": 32,
   "id": "b66ca4a6",
   "metadata": {
    "execution": {
     "iopub.execute_input": "2022-09-09T10:53:30.919722Z",
     "iopub.status.busy": "2022-09-09T10:53:30.918980Z",
     "iopub.status.idle": "2022-09-09T10:53:32.869426Z",
     "shell.execute_reply": "2022-09-09T10:53:32.868302Z"
    },
    "papermill": {
     "duration": 1.973859,
     "end_time": "2022-09-09T10:53:32.872482",
     "exception": false,
     "start_time": "2022-09-09T10:53:30.898623",
     "status": "completed"
    },
    "tags": []
   },
   "outputs": [],
   "source": [
    "similarity_score = cosine_similarity(vectors)"
   ]
  },
  {
   "cell_type": "code",
   "execution_count": 33,
   "id": "ac1c83d0",
   "metadata": {
    "execution": {
     "iopub.execute_input": "2022-09-09T10:53:32.913580Z",
     "iopub.status.busy": "2022-09-09T10:53:32.912437Z",
     "iopub.status.idle": "2022-09-09T10:53:32.920773Z",
     "shell.execute_reply": "2022-09-09T10:53:32.919589Z"
    },
    "papermill": {
     "duration": 0.03167,
     "end_time": "2022-09-09T10:53:32.923364",
     "exception": false,
     "start_time": "2022-09-09T10:53:32.891694",
     "status": "completed"
    },
    "tags": []
   },
   "outputs": [
    {
     "data": {
      "text/plain": [
       "array([[1.        , 0.03456974, 0.03922371, ..., 0.04889589, 0.01552399,\n",
       "        0.01255302],\n",
       "       [0.03456974, 1.        , 0.07161851, ..., 0.03725022, 0.02554626,\n",
       "        0.01743875],\n",
       "       [0.03922371, 0.07161851, 1.        , ..., 0.04499789, 0.01988136,\n",
       "        0.02199699],\n",
       "       ...,\n",
       "       [0.04889589, 0.03725022, 0.04499789, ..., 1.        , 0.06382215,\n",
       "        0.0533685 ],\n",
       "       [0.01552399, 0.02554626, 0.01988136, ..., 0.06382215, 1.        ,\n",
       "        0.0710892 ],\n",
       "       [0.01255302, 0.01743875, 0.02199699, ..., 0.0533685 , 0.0710892 ,\n",
       "        1.        ]])"
      ]
     },
     "execution_count": 33,
     "metadata": {},
     "output_type": "execute_result"
    }
   ],
   "source": [
    "similarity_score"
   ]
  },
  {
   "cell_type": "code",
   "execution_count": 34,
   "id": "664ae062",
   "metadata": {
    "execution": {
     "iopub.execute_input": "2022-09-09T10:53:32.964259Z",
     "iopub.status.busy": "2022-09-09T10:53:32.963440Z",
     "iopub.status.idle": "2022-09-09T10:53:32.970732Z",
     "shell.execute_reply": "2022-09-09T10:53:32.969489Z"
    },
    "papermill": {
     "duration": 0.030593,
     "end_time": "2022-09-09T10:53:32.973314",
     "exception": false,
     "start_time": "2022-09-09T10:53:32.942721",
     "status": "completed"
    },
    "tags": []
   },
   "outputs": [
    {
     "name": "stdout",
     "output_type": "stream",
     "text": [
      "Shape : \n",
      " (4800, 4800)\n",
      "\n",
      " Sample data: \n",
      " [0.04094582 0.05145652 0.05285622 ... 0.05329347 0.08631546 0.07072732]\n",
      "\n",
      " Single data shape: \n",
      " (4800,)\n"
     ]
    }
   ],
   "source": [
    "print(\"Shape : \\n\" , similarity_score.shape)\n",
    "print(\"\\n Sample data: \\n\",similarity_score[10])\n",
    "print(\"\\n Single data shape: \\n\",similarity_score[10].shape)\n"
   ]
  },
  {
   "cell_type": "markdown",
   "id": "66bc38c2",
   "metadata": {
    "papermill": {
     "duration": 0.018916,
     "end_time": "2022-09-09T10:53:33.011525",
     "exception": false,
     "start_time": "2022-09-09T10:53:32.992609",
     "status": "completed"
    },
    "tags": []
   },
   "source": [
    "### Sample data\n",
    "Showing similarity of 10th record with every other movie"
   ]
  },
  {
   "cell_type": "code",
   "execution_count": 35,
   "id": "609848cb",
   "metadata": {
    "execution": {
     "iopub.execute_input": "2022-09-09T10:53:33.054313Z",
     "iopub.status.busy": "2022-09-09T10:53:33.053428Z",
     "iopub.status.idle": "2022-09-09T10:53:33.061489Z",
     "shell.execute_reply": "2022-09-09T10:53:33.060369Z"
    },
    "papermill": {
     "duration": 0.03172,
     "end_time": "2022-09-09T10:53:33.064095",
     "exception": false,
     "start_time": "2022-09-09T10:53:33.032375",
     "status": "completed"
    },
    "tags": []
   },
   "outputs": [
    {
     "data": {
      "text/plain": [
       "array([0.04094582, 0.05145652, 0.05285622, ..., 0.05329347, 0.08631546,\n",
       "       0.07072732])"
      ]
     },
     "execution_count": 35,
     "metadata": {},
     "output_type": "execute_result"
    }
   ],
   "source": [
    "similarity_score[10]"
   ]
  },
  {
   "cell_type": "markdown",
   "id": "7a546e10",
   "metadata": {
    "papermill": {
     "duration": 0.019795,
     "end_time": "2022-09-09T10:53:33.103958",
     "exception": false,
     "start_time": "2022-09-09T10:53:33.084163",
     "status": "completed"
    },
    "tags": []
   },
   "source": [
    "## Building Recommendations\n",
    "\n",
    "We will create a function which will take \n",
    "\n",
    "movie as an argument, find index of the movie and sort it fir\n",
    "\n",
    "1. Take movie name as the argument\n",
    "2. Find the index of that movie\n",
    "3. Sort and enum to get the index\n",
    "4. Pick the top 5 starting from index 1\n"
   ]
  },
  {
   "cell_type": "code",
   "execution_count": 36,
   "id": "3e9fb423",
   "metadata": {
    "execution": {
     "iopub.execute_input": "2022-09-09T10:53:33.145248Z",
     "iopub.status.busy": "2022-09-09T10:53:33.144771Z",
     "iopub.status.idle": "2022-09-09T10:53:33.151797Z",
     "shell.execute_reply": "2022-09-09T10:53:33.150367Z"
    },
    "papermill": {
     "duration": 0.030723,
     "end_time": "2022-09-09T10:53:33.154598",
     "exception": false,
     "start_time": "2022-09-09T10:53:33.123875",
     "status": "completed"
    },
    "tags": []
   },
   "outputs": [],
   "source": [
    "def recommend_movies(movie):\n",
    "    index = collab_df[collab_df['original_title'] == movie].index[0]\n",
    "    top5 = sorted(list(enumerate(similarity_score[index])), key=lambda x:x[1], reverse=True)[1:6]\n",
    "    \n",
    "    for i in top5:\n",
    "        print(collab_df.iloc[i[0]].original_title)"
   ]
  },
  {
   "cell_type": "code",
   "execution_count": 37,
   "id": "1486ab71",
   "metadata": {
    "execution": {
     "iopub.execute_input": "2022-09-09T10:53:33.195269Z",
     "iopub.status.busy": "2022-09-09T10:53:33.194451Z",
     "iopub.status.idle": "2022-09-09T10:53:33.207665Z",
     "shell.execute_reply": "2022-09-09T10:53:33.206361Z"
    },
    "papermill": {
     "duration": 0.036369,
     "end_time": "2022-09-09T10:53:33.210476",
     "exception": false,
     "start_time": "2022-09-09T10:53:33.174107",
     "status": "completed"
    },
    "tags": []
   },
   "outputs": [
    {
     "name": "stdout",
     "output_type": "stream",
     "text": [
      "The X Files: I Want to Believe\n",
      "E.T. the Extra-Terrestrial\n",
      "Conspiracy Theory\n",
      "Predator 2\n",
      "Angels & Demons\n"
     ]
    }
   ],
   "source": [
    "recommend_movies('The X Files')"
   ]
  },
  {
   "cell_type": "code",
   "execution_count": 38,
   "id": "0c2dbab0",
   "metadata": {
    "execution": {
     "iopub.execute_input": "2022-09-09T10:53:33.252221Z",
     "iopub.status.busy": "2022-09-09T10:53:33.250870Z",
     "iopub.status.idle": "2022-09-09T10:53:33.274022Z",
     "shell.execute_reply": "2022-09-09T10:53:33.272781Z"
    },
    "papermill": {
     "duration": 0.046362,
     "end_time": "2022-09-09T10:53:33.276623",
     "exception": false,
     "start_time": "2022-09-09T10:53:33.230261",
     "status": "completed"
    },
    "tags": []
   },
   "outputs": [
    {
     "data": {
      "text/html": [
       "<div>\n",
       "<style scoped>\n",
       "    .dataframe tbody tr th:only-of-type {\n",
       "        vertical-align: middle;\n",
       "    }\n",
       "\n",
       "    .dataframe tbody tr th {\n",
       "        vertical-align: top;\n",
       "    }\n",
       "\n",
       "    .dataframe thead th {\n",
       "        text-align: right;\n",
       "    }\n",
       "</style>\n",
       "<table border=\"1\" class=\"dataframe\">\n",
       "  <thead>\n",
       "    <tr style=\"text-align: right;\">\n",
       "      <th></th>\n",
       "      <th>id</th>\n",
       "      <th>original_title</th>\n",
       "      <th>overview</th>\n",
       "      <th>genres</th>\n",
       "      <th>keywords</th>\n",
       "      <th>cast</th>\n",
       "      <th>crew</th>\n",
       "      <th>combined</th>\n",
       "    </tr>\n",
       "  </thead>\n",
       "  <tbody>\n",
       "    <tr>\n",
       "      <th>626</th>\n",
       "      <td>846</td>\n",
       "      <td>The X Files</td>\n",
       "      <td>[Mulder, and, Scully,, now, taken, off, the, F...</td>\n",
       "      <td>[Mystery, ScienceFiction, Thriller]</td>\n",
       "      <td>[bomb, helicopter, secret, obsession, extrater...</td>\n",
       "      <td>DavidDuchovny GillianAnderson MitchPileggi Wil...</td>\n",
       "      <td>RobBowman</td>\n",
       "      <td>mulder and scully, now taken off the fbi' x fi...</td>\n",
       "    </tr>\n",
       "    <tr>\n",
       "      <th>1422</th>\n",
       "      <td>8836</td>\n",
       "      <td>The X Files: I Want to Believe</td>\n",
       "      <td>[Six, years, after, the, events, of, The, X-Fi...</td>\n",
       "      <td>[Drama, Mystery, ScienceFiction, Thriller]</td>\n",
       "      <td>[extraterrestrialtechnology, fbi, alien, fbiag...</td>\n",
       "      <td>DavidDuchovny GillianAnderson AmandaPeet Billy...</td>\n",
       "      <td>ChrisCarter</td>\n",
       "      <td>six year after the event of the x-file seri fi...</td>\n",
       "    </tr>\n",
       "  </tbody>\n",
       "</table>\n",
       "</div>"
      ],
      "text/plain": [
       "        id                  original_title  \\\n",
       "626    846                     The X Files   \n",
       "1422  8836  The X Files: I Want to Believe   \n",
       "\n",
       "                                               overview  \\\n",
       "626   [Mulder, and, Scully,, now, taken, off, the, F...   \n",
       "1422  [Six, years, after, the, events, of, The, X-Fi...   \n",
       "\n",
       "                                          genres  \\\n",
       "626          [Mystery, ScienceFiction, Thriller]   \n",
       "1422  [Drama, Mystery, ScienceFiction, Thriller]   \n",
       "\n",
       "                                               keywords  \\\n",
       "626   [bomb, helicopter, secret, obsession, extrater...   \n",
       "1422  [extraterrestrialtechnology, fbi, alien, fbiag...   \n",
       "\n",
       "                                                   cast         crew  \\\n",
       "626   DavidDuchovny GillianAnderson MitchPileggi Wil...    RobBowman   \n",
       "1422  DavidDuchovny GillianAnderson AmandaPeet Billy...  ChrisCarter   \n",
       "\n",
       "                                               combined  \n",
       "626   mulder and scully, now taken off the fbi' x fi...  \n",
       "1422  six year after the event of the x-file seri fi...  "
      ]
     },
     "execution_count": 38,
     "metadata": {},
     "output_type": "execute_result"
    }
   ],
   "source": [
    "collab_df[collab_df['original_title'].str.contains('The X Files')]"
   ]
  },
  {
   "cell_type": "code",
   "execution_count": 39,
   "id": "3e09568e",
   "metadata": {
    "execution": {
     "iopub.execute_input": "2022-09-09T10:53:33.319007Z",
     "iopub.status.busy": "2022-09-09T10:53:33.318156Z",
     "iopub.status.idle": "2022-09-09T10:53:33.331033Z",
     "shell.execute_reply": "2022-09-09T10:53:33.329729Z"
    },
    "papermill": {
     "duration": 0.037923,
     "end_time": "2022-09-09T10:53:33.334491",
     "exception": false,
     "start_time": "2022-09-09T10:53:33.296568",
     "status": "completed"
    },
    "tags": []
   },
   "outputs": [
    {
     "name": "stdout",
     "output_type": "stream",
     "text": [
      "The Dark Knight\n",
      "The Dark Knight Rises\n",
      "Batman Returns\n",
      "Batman\n",
      "Batman v Superman: Dawn of Justice\n"
     ]
    }
   ],
   "source": [
    "recommend_movies('Batman Begins')"
   ]
  },
  {
   "cell_type": "code",
   "execution_count": 40,
   "id": "e698ec85",
   "metadata": {
    "execution": {
     "iopub.execute_input": "2022-09-09T10:53:33.377385Z",
     "iopub.status.busy": "2022-09-09T10:53:33.376930Z",
     "iopub.status.idle": "2022-09-09T10:53:33.388907Z",
     "shell.execute_reply": "2022-09-09T10:53:33.387623Z"
    },
    "papermill": {
     "duration": 0.03644,
     "end_time": "2022-09-09T10:53:33.392198",
     "exception": false,
     "start_time": "2022-09-09T10:53:33.355758",
     "status": "completed"
    },
    "tags": []
   },
   "outputs": [
    {
     "name": "stdout",
     "output_type": "stream",
     "text": [
      "兔侠传奇\n",
      "功夫\n",
      "Kung Pow: Enter the Fist\n",
      "Kung Fu Panda 2\n",
      "The Forbidden Kingdom\n"
     ]
    }
   ],
   "source": [
    "recommend_movies('Bulletproof Monk')"
   ]
  },
  {
   "cell_type": "code",
   "execution_count": 41,
   "id": "c9904d02",
   "metadata": {
    "execution": {
     "iopub.execute_input": "2022-09-09T10:53:33.435397Z",
     "iopub.status.busy": "2022-09-09T10:53:33.434396Z",
     "iopub.status.idle": "2022-09-09T10:53:33.448810Z",
     "shell.execute_reply": "2022-09-09T10:53:33.447419Z"
    },
    "papermill": {
     "duration": 0.039053,
     "end_time": "2022-09-09T10:53:33.451371",
     "exception": false,
     "start_time": "2022-09-09T10:53:33.412318",
     "status": "completed"
    },
    "tags": []
   },
   "outputs": [
    {
     "name": "stdout",
     "output_type": "stream",
     "text": [
      "The World Is Not Enough\n",
      "Never Say Never Again\n",
      "Quantum of Solace\n",
      "Licence to Kill\n",
      "GoldenEye\n"
     ]
    }
   ],
   "source": [
    "recommend_movies('Die Another Day')"
   ]
  },
  {
   "cell_type": "code",
   "execution_count": 42,
   "id": "1336e679",
   "metadata": {
    "execution": {
     "iopub.execute_input": "2022-09-09T10:53:33.493381Z",
     "iopub.status.busy": "2022-09-09T10:53:33.492650Z",
     "iopub.status.idle": "2022-09-09T10:53:33.504561Z",
     "shell.execute_reply": "2022-09-09T10:53:33.503396Z"
    },
    "papermill": {
     "duration": 0.035972,
     "end_time": "2022-09-09T10:53:33.507202",
     "exception": false,
     "start_time": "2022-09-09T10:53:33.471230",
     "status": "completed"
    },
    "tags": []
   },
   "outputs": [
    {
     "name": "stdout",
     "output_type": "stream",
     "text": [
      "Signs\n",
      "Lady in the Water\n",
      "The Ice Pirates\n",
      "The Village\n",
      "The Happening\n"
     ]
    }
   ],
   "source": [
    "recommend_movies('The Last Airbender')"
   ]
  },
  {
   "cell_type": "code",
   "execution_count": 43,
   "id": "a67f48c0",
   "metadata": {
    "execution": {
     "iopub.execute_input": "2022-09-09T10:53:33.549423Z",
     "iopub.status.busy": "2022-09-09T10:53:33.548627Z",
     "iopub.status.idle": "2022-09-09T10:53:33.558801Z",
     "shell.execute_reply": "2022-09-09T10:53:33.557704Z"
    },
    "papermill": {
     "duration": 0.034093,
     "end_time": "2022-09-09T10:53:33.561407",
     "exception": false,
     "start_time": "2022-09-09T10:53:33.527314",
     "status": "completed"
    },
    "tags": []
   },
   "outputs": [
    {
     "data": {
      "text/plain": [
       "271                             The Island\n",
       "1566                         About Schmidt\n",
       "1174                          Ride Along 2\n",
       "3827                                Friday\n",
       "2049                       Dudley Do-Right\n",
       "605        Legends of Oz: Dorothy's Return\n",
       "3031                            Wrong Turn\n",
       "3003    Nick and Norah's Infinite Playlist\n",
       "383                                Twister\n",
       "3279                           Prefontaine\n",
       "Name: original_title, dtype: object"
      ]
     },
     "execution_count": 43,
     "metadata": {},
     "output_type": "execute_result"
    }
   ],
   "source": [
    "collab_df['original_title'].sample(10)"
   ]
  },
  {
   "cell_type": "code",
   "execution_count": 44,
   "id": "921ef0d4",
   "metadata": {
    "execution": {
     "iopub.execute_input": "2022-09-09T10:53:33.604218Z",
     "iopub.status.busy": "2022-09-09T10:53:33.603764Z",
     "iopub.status.idle": "2022-09-09T10:53:33.613218Z",
     "shell.execute_reply": "2022-09-09T10:53:33.612054Z"
    },
    "papermill": {
     "duration": 0.033647,
     "end_time": "2022-09-09T10:53:33.615559",
     "exception": false,
     "start_time": "2022-09-09T10:53:33.581912",
     "status": "completed"
    },
    "tags": []
   },
   "outputs": [
    {
     "data": {
      "text/plain": [
       "3453                         The Wood\n",
       "3288                             Fido\n",
       "534                           Bandits\n",
       "4299                         Home Run\n",
       "2478                    Drowning Mona\n",
       "2242                  Flash of Genius\n",
       "4555                    Enter Nowhere\n",
       "1832                         Chocolat\n",
       "4210                    दिल जो भी कहे\n",
       "1809            The Constant Gardener\n",
       "3359                      In Too Deep\n",
       "4693                               H.\n",
       "1549                The Addams Family\n",
       "2517                The King's Speech\n",
       "3353                      The Descent\n",
       "237        The Huntsman: Winter's War\n",
       "1617                                9\n",
       "3328                       Persepolis\n",
       "124                            Frozen\n",
       "3559            Paranormal Activity 3\n",
       "2045                I Heart Huckabees\n",
       "508     The Lost World: Jurassic Park\n",
       "1831            Bridget Jones's Diary\n",
       "2129                   The Black Hole\n",
       "391                         Enchanted\n",
       "551                       Fool's Gold\n",
       "2944                 Army of Darkness\n",
       "1820                 The Fifth Estate\n",
       "3299                          Swelter\n",
       "4286                The Lion of Judah\n",
       "Name: original_title, dtype: object"
      ]
     },
     "execution_count": 44,
     "metadata": {},
     "output_type": "execute_result"
    }
   ],
   "source": [
    "collab_df['original_title'].sample(30)"
   ]
  },
  {
   "cell_type": "code",
   "execution_count": 45,
   "id": "cb719958",
   "metadata": {
    "execution": {
     "iopub.execute_input": "2022-09-09T10:53:33.658264Z",
     "iopub.status.busy": "2022-09-09T10:53:33.657540Z",
     "iopub.status.idle": "2022-09-09T10:53:33.670227Z",
     "shell.execute_reply": "2022-09-09T10:53:33.668548Z"
    },
    "papermill": {
     "duration": 0.03797,
     "end_time": "2022-09-09T10:53:33.673707",
     "exception": false,
     "start_time": "2022-09-09T10:53:33.635737",
     "status": "completed"
    },
    "tags": []
   },
   "outputs": [
    {
     "name": "stdout",
     "output_type": "stream",
     "text": [
      "Elizabeth\n",
      "The Mighty Macs\n",
      "Stolen Summer\n",
      "Mystic River\n",
      "The Core\n"
     ]
    }
   ],
   "source": [
    "recommend_movies('Spotlight')"
   ]
  },
  {
   "cell_type": "code",
   "execution_count": 46,
   "id": "a3b77280",
   "metadata": {
    "execution": {
     "iopub.execute_input": "2022-09-09T10:53:33.716631Z",
     "iopub.status.busy": "2022-09-09T10:53:33.715545Z",
     "iopub.status.idle": "2022-09-09T10:53:33.727639Z",
     "shell.execute_reply": "2022-09-09T10:53:33.726398Z"
    },
    "papermill": {
     "duration": 0.036512,
     "end_time": "2022-09-09T10:53:33.730781",
     "exception": false,
     "start_time": "2022-09-09T10:53:33.694269",
     "status": "completed"
    },
    "tags": []
   },
   "outputs": [
    {
     "name": "stdout",
     "output_type": "stream",
     "text": [
      "The Rainmaker\n",
      "The Firm\n",
      "Chill Factor\n",
      "The Judge\n",
      "My Big Fat Greek Wedding\n"
     ]
    }
   ],
   "source": [
    "recommend_movies('Michael Clayton')"
   ]
  },
  {
   "cell_type": "code",
   "execution_count": 47,
   "id": "ddbae902",
   "metadata": {
    "execution": {
     "iopub.execute_input": "2022-09-09T10:53:33.773906Z",
     "iopub.status.busy": "2022-09-09T10:53:33.773204Z",
     "iopub.status.idle": "2022-09-09T10:53:33.791398Z",
     "shell.execute_reply": "2022-09-09T10:53:33.790291Z"
    },
    "papermill": {
     "duration": 0.041945,
     "end_time": "2022-09-09T10:53:33.793672",
     "exception": false,
     "start_time": "2022-09-09T10:53:33.751727",
     "status": "completed"
    },
    "tags": []
   },
   "outputs": [
    {
     "data": {
      "text/html": [
       "<div>\n",
       "<style scoped>\n",
       "    .dataframe tbody tr th:only-of-type {\n",
       "        vertical-align: middle;\n",
       "    }\n",
       "\n",
       "    .dataframe tbody tr th {\n",
       "        vertical-align: top;\n",
       "    }\n",
       "\n",
       "    .dataframe thead th {\n",
       "        text-align: right;\n",
       "    }\n",
       "</style>\n",
       "<table border=\"1\" class=\"dataframe\">\n",
       "  <thead>\n",
       "    <tr style=\"text-align: right;\">\n",
       "      <th></th>\n",
       "      <th>id</th>\n",
       "      <th>original_title</th>\n",
       "      <th>overview</th>\n",
       "      <th>genres</th>\n",
       "      <th>keywords</th>\n",
       "      <th>cast</th>\n",
       "      <th>crew</th>\n",
       "      <th>combined</th>\n",
       "    </tr>\n",
       "  </thead>\n",
       "  <tbody>\n",
       "    <tr>\n",
       "      <th>2061</th>\n",
       "      <td>4566</td>\n",
       "      <td>Michael Clayton</td>\n",
       "      <td>[A, law, firm, brings, in, its, 'fixer', to, r...</td>\n",
       "      <td>[Drama, Mystery, Crime]</td>\n",
       "      <td>[killing, restaurant, chambersofabarrister, sc...</td>\n",
       "      <td>GeorgeClooney TomWilkinson TildaSwinton Sydney...</td>\n",
       "      <td>TonyGilroy</td>\n",
       "      <td>a law firm bring in it 'fixer' to remedi the s...</td>\n",
       "    </tr>\n",
       "  </tbody>\n",
       "</table>\n",
       "</div>"
      ],
      "text/plain": [
       "        id   original_title  \\\n",
       "2061  4566  Michael Clayton   \n",
       "\n",
       "                                               overview  \\\n",
       "2061  [A, law, firm, brings, in, its, 'fixer', to, r...   \n",
       "\n",
       "                       genres  \\\n",
       "2061  [Drama, Mystery, Crime]   \n",
       "\n",
       "                                               keywords  \\\n",
       "2061  [killing, restaurant, chambersofabarrister, sc...   \n",
       "\n",
       "                                                   cast        crew  \\\n",
       "2061  GeorgeClooney TomWilkinson TildaSwinton Sydney...  TonyGilroy   \n",
       "\n",
       "                                               combined  \n",
       "2061  a law firm bring in it 'fixer' to remedi the s...  "
      ]
     },
     "execution_count": 47,
     "metadata": {},
     "output_type": "execute_result"
    }
   ],
   "source": [
    "collab_df[collab_df['original_title'].str.contains(\"Clayton\")]"
   ]
  },
  {
   "cell_type": "code",
   "execution_count": null,
   "id": "3c131921",
   "metadata": {
    "papermill": {
     "duration": 0.020034,
     "end_time": "2022-09-09T10:53:33.834040",
     "exception": false,
     "start_time": "2022-09-09T10:53:33.814006",
     "status": "completed"
    },
    "tags": []
   },
   "outputs": [],
   "source": []
  }
 ],
 "metadata": {
  "kernelspec": {
   "display_name": "Python 3",
   "language": "python",
   "name": "python3"
  },
  "language_info": {
   "codemirror_mode": {
    "name": "ipython",
    "version": 3
   },
   "file_extension": ".py",
   "mimetype": "text/x-python",
   "name": "python",
   "nbconvert_exporter": "python",
   "pygments_lexer": "ipython3",
   "version": "3.7.12"
  },
  "papermill": {
   "default_parameters": {},
   "duration": 26.504689,
   "end_time": "2022-09-09T10:53:34.777419",
   "environment_variables": {},
   "exception": null,
   "input_path": "__notebook__.ipynb",
   "output_path": "__notebook__.ipynb",
   "parameters": {},
   "start_time": "2022-09-09T10:53:08.272730",
   "version": "2.3.4"
  }
 },
 "nbformat": 4,
 "nbformat_minor": 5
}
